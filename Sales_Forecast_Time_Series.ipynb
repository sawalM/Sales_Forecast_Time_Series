{
 "cells": [
  {
   "cell_type": "markdown",
   "metadata": {},
   "source": [
    "## Problem Statement:\n",
    "Global Mart is an online supergiant store that has worldwide operations. This store takes orders and delivers across the globe and deals with all the major product categories — consumer, corporate and home office.\n",
    "As a sales manager for this store, you have to forecast the sales of the products for the next 6 months, so that you have a proper estimate and can plan your inventory and business processes accordingly.\n"
   ]
  },
  {
   "cell_type": "code",
   "execution_count": null,
   "metadata": {},
   "outputs": [],
   "source": [
    "#Importing libraries\n",
    "import pandas as pd\n",
    "import numpy as np\n",
    "import matplotlib.pyplot as plt\n",
    "\n",
    "# To Ignore warning messages on screen\n",
    "import warnings\n",
    "warnings.filterwarnings('ignore')"
   ]
  },
  {
   "cell_type": "code",
   "execution_count": 2,
   "metadata": {},
   "outputs": [
    {
     "data": {
      "text/html": [
       "<div>\n",
       "<style scoped>\n",
       "    .dataframe tbody tr th:only-of-type {\n",
       "        vertical-align: middle;\n",
       "    }\n",
       "\n",
       "    .dataframe tbody tr th {\n",
       "        vertical-align: top;\n",
       "    }\n",
       "\n",
       "    .dataframe thead th {\n",
       "        text-align: right;\n",
       "    }\n",
       "</style>\n",
       "<table border=\"1\" class=\"dataframe\">\n",
       "  <thead>\n",
       "    <tr style=\"text-align: right;\">\n",
       "      <th></th>\n",
       "      <th>Order Date</th>\n",
       "      <th>Segment</th>\n",
       "      <th>Market</th>\n",
       "      <th>Sales</th>\n",
       "      <th>Profit</th>\n",
       "    </tr>\n",
       "  </thead>\n",
       "  <tbody>\n",
       "    <tr>\n",
       "      <th>0</th>\n",
       "      <td>31-07-2012</td>\n",
       "      <td>Consumer</td>\n",
       "      <td>US</td>\n",
       "      <td>2309.650</td>\n",
       "      <td>762.1845</td>\n",
       "    </tr>\n",
       "    <tr>\n",
       "      <th>1</th>\n",
       "      <td>05-02-2013</td>\n",
       "      <td>Corporate</td>\n",
       "      <td>APAC</td>\n",
       "      <td>3709.395</td>\n",
       "      <td>-288.7650</td>\n",
       "    </tr>\n",
       "    <tr>\n",
       "      <th>2</th>\n",
       "      <td>17-10-2013</td>\n",
       "      <td>Consumer</td>\n",
       "      <td>APAC</td>\n",
       "      <td>5175.171</td>\n",
       "      <td>919.9710</td>\n",
       "    </tr>\n",
       "    <tr>\n",
       "      <th>3</th>\n",
       "      <td>28-01-2013</td>\n",
       "      <td>Home Office</td>\n",
       "      <td>EU</td>\n",
       "      <td>2892.510</td>\n",
       "      <td>-96.5400</td>\n",
       "    </tr>\n",
       "    <tr>\n",
       "      <th>4</th>\n",
       "      <td>05-11-2013</td>\n",
       "      <td>Consumer</td>\n",
       "      <td>Africa</td>\n",
       "      <td>2832.960</td>\n",
       "      <td>311.5200</td>\n",
       "    </tr>\n",
       "  </tbody>\n",
       "</table>\n",
       "</div>"
      ],
      "text/plain": [
       "   Order Date      Segment  Market     Sales    Profit\n",
       "0  31-07-2012     Consumer      US  2309.650  762.1845\n",
       "1  05-02-2013    Corporate    APAC  3709.395 -288.7650\n",
       "2  17-10-2013     Consumer    APAC  5175.171  919.9710\n",
       "3  28-01-2013  Home Office      EU  2892.510  -96.5400\n",
       "4  05-11-2013     Consumer  Africa  2832.960  311.5200"
      ]
     },
     "execution_count": 2,
     "metadata": {},
     "output_type": "execute_result"
    }
   ],
   "source": [
    "#To read the Data Global market superstore data using Pandas\n",
    "df=pd.read_csv('Global+Superstore+Data.csv')\n",
    "df.head()"
   ]
  },
  {
   "cell_type": "code",
   "execution_count": 3,
   "metadata": {},
   "outputs": [
    {
     "data": {
      "text/plain": [
       "(51290, 5)"
      ]
     },
     "execution_count": 3,
     "metadata": {},
     "output_type": "execute_result"
    }
   ],
   "source": [
    "# To get the Size of data set in terms of rows and columns\n",
    "df.shape"
   ]
  },
  {
   "cell_type": "code",
   "execution_count": 4,
   "metadata": {},
   "outputs": [
    {
     "data": {
      "text/plain": [
       "Order Date    0\n",
       "Segment       0\n",
       "Market        0\n",
       "Sales         0\n",
       "Profit        0\n",
       "dtype: int64"
      ]
     },
     "execution_count": 4,
     "metadata": {},
     "output_type": "execute_result"
    }
   ],
   "source": [
    "# To check if any Missing values present in Global market data set\n",
    "df.isnull().sum()"
   ]
  },
  {
   "cell_type": "markdown",
   "metadata": {},
   "source": [
    "#### Observation:\n",
    " No missing values were found in Global  Market data set."
   ]
  },
  {
   "cell_type": "code",
   "execution_count": 5,
   "metadata": {},
   "outputs": [
    {
     "data": {
      "text/html": [
       "<div>\n",
       "<style scoped>\n",
       "    .dataframe tbody tr th:only-of-type {\n",
       "        vertical-align: middle;\n",
       "    }\n",
       "\n",
       "    .dataframe tbody tr th {\n",
       "        vertical-align: top;\n",
       "    }\n",
       "\n",
       "    .dataframe thead th {\n",
       "        text-align: right;\n",
       "    }\n",
       "</style>\n",
       "<table border=\"1\" class=\"dataframe\">\n",
       "  <thead>\n",
       "    <tr style=\"text-align: right;\">\n",
       "      <th></th>\n",
       "      <th>Order Date</th>\n",
       "      <th>Segment</th>\n",
       "      <th>Market</th>\n",
       "      <th>Sales</th>\n",
       "      <th>Profit</th>\n",
       "    </tr>\n",
       "  </thead>\n",
       "  <tbody>\n",
       "    <tr>\n",
       "      <th>0</th>\n",
       "      <td>31-07-2012</td>\n",
       "      <td>Consumer</td>\n",
       "      <td>US</td>\n",
       "      <td>2309.650</td>\n",
       "      <td>762.1845</td>\n",
       "    </tr>\n",
       "    <tr>\n",
       "      <th>1</th>\n",
       "      <td>05-02-2013</td>\n",
       "      <td>Corporate</td>\n",
       "      <td>APAC</td>\n",
       "      <td>3709.395</td>\n",
       "      <td>-288.7650</td>\n",
       "    </tr>\n",
       "    <tr>\n",
       "      <th>2</th>\n",
       "      <td>17-10-2013</td>\n",
       "      <td>Consumer</td>\n",
       "      <td>APAC</td>\n",
       "      <td>5175.171</td>\n",
       "      <td>919.9710</td>\n",
       "    </tr>\n",
       "    <tr>\n",
       "      <th>3</th>\n",
       "      <td>28-01-2013</td>\n",
       "      <td>Home Office</td>\n",
       "      <td>EU</td>\n",
       "      <td>2892.510</td>\n",
       "      <td>-96.5400</td>\n",
       "    </tr>\n",
       "    <tr>\n",
       "      <th>4</th>\n",
       "      <td>05-11-2013</td>\n",
       "      <td>Consumer</td>\n",
       "      <td>Africa</td>\n",
       "      <td>2832.960</td>\n",
       "      <td>311.5200</td>\n",
       "    </tr>\n",
       "  </tbody>\n",
       "</table>\n",
       "</div>"
      ],
      "text/plain": [
       "   Order Date      Segment  Market     Sales    Profit\n",
       "0  31-07-2012     Consumer      US  2309.650  762.1845\n",
       "1  05-02-2013    Corporate    APAC  3709.395 -288.7650\n",
       "2  17-10-2013     Consumer    APAC  5175.171  919.9710\n",
       "3  28-01-2013  Home Office      EU  2892.510  -96.5400\n",
       "4  05-11-2013     Consumer  Africa  2832.960  311.5200"
      ]
     },
     "execution_count": 5,
     "metadata": {},
     "output_type": "execute_result"
    }
   ],
   "source": [
    "#To display first 5 rows of given data set\n",
    "df.head()"
   ]
  },
  {
   "cell_type": "markdown",
   "metadata": {},
   "source": [
    "### Data Preparation"
   ]
  },
  {
   "cell_type": "code",
   "execution_count": 6,
   "metadata": {},
   "outputs": [
    {
     "data": {
      "text/html": [
       "<div>\n",
       "<style scoped>\n",
       "    .dataframe tbody tr th:only-of-type {\n",
       "        vertical-align: middle;\n",
       "    }\n",
       "\n",
       "    .dataframe tbody tr th {\n",
       "        vertical-align: top;\n",
       "    }\n",
       "\n",
       "    .dataframe thead th {\n",
       "        text-align: right;\n",
       "    }\n",
       "</style>\n",
       "<table border=\"1\" class=\"dataframe\">\n",
       "  <thead>\n",
       "    <tr style=\"text-align: right;\">\n",
       "      <th></th>\n",
       "      <th>Order Date</th>\n",
       "      <th>Segment</th>\n",
       "      <th>Market</th>\n",
       "      <th>Sales</th>\n",
       "      <th>Profit</th>\n",
       "    </tr>\n",
       "  </thead>\n",
       "  <tbody>\n",
       "    <tr>\n",
       "      <th>0</th>\n",
       "      <td>2012-07</td>\n",
       "      <td>Consumer</td>\n",
       "      <td>US</td>\n",
       "      <td>2309.650</td>\n",
       "      <td>762.1845</td>\n",
       "    </tr>\n",
       "    <tr>\n",
       "      <th>1</th>\n",
       "      <td>2013-05</td>\n",
       "      <td>Corporate</td>\n",
       "      <td>APAC</td>\n",
       "      <td>3709.395</td>\n",
       "      <td>-288.7650</td>\n",
       "    </tr>\n",
       "    <tr>\n",
       "      <th>2</th>\n",
       "      <td>2013-10</td>\n",
       "      <td>Consumer</td>\n",
       "      <td>APAC</td>\n",
       "      <td>5175.171</td>\n",
       "      <td>919.9710</td>\n",
       "    </tr>\n",
       "    <tr>\n",
       "      <th>3</th>\n",
       "      <td>2013-01</td>\n",
       "      <td>Home Office</td>\n",
       "      <td>EU</td>\n",
       "      <td>2892.510</td>\n",
       "      <td>-96.5400</td>\n",
       "    </tr>\n",
       "    <tr>\n",
       "      <th>4</th>\n",
       "      <td>2013-05</td>\n",
       "      <td>Consumer</td>\n",
       "      <td>Africa</td>\n",
       "      <td>2832.960</td>\n",
       "      <td>311.5200</td>\n",
       "    </tr>\n",
       "  </tbody>\n",
       "</table>\n",
       "</div>"
      ],
      "text/plain": [
       "  Order Date      Segment  Market     Sales    Profit\n",
       "0    2012-07     Consumer      US  2309.650  762.1845\n",
       "1    2013-05    Corporate    APAC  3709.395 -288.7650\n",
       "2    2013-10     Consumer    APAC  5175.171  919.9710\n",
       "3    2013-01  Home Office      EU  2892.510  -96.5400\n",
       "4    2013-05     Consumer  Africa  2832.960  311.5200"
      ]
     },
     "execution_count": 6,
     "metadata": {},
     "output_type": "execute_result"
    }
   ],
   "source": [
    "# Converting the Order date into Year-Month format\n",
    "df['Order Date'] = pd.to_datetime(df['Order Date']).dt.to_period('m')\n",
    "df.head()"
   ]
  },
  {
   "cell_type": "code",
   "execution_count": 7,
   "metadata": {},
   "outputs": [
    {
     "data": {
      "text/plain": [
       "Consumer       26518\n",
       "Corporate      15429\n",
       "Home Office     9343\n",
       "Name: Segment, dtype: int64"
      ]
     },
     "execution_count": 7,
     "metadata": {},
     "output_type": "execute_result"
    }
   ],
   "source": [
    "#To find the distinct Segements present in our dataset\n",
    "df['Segment'].value_counts()"
   ]
  },
  {
   "cell_type": "markdown",
   "metadata": {},
   "source": [
    "#### Observation:\n",
    " There are 3 Distinct Segments in data set."
   ]
  },
  {
   "cell_type": "code",
   "execution_count": 8,
   "metadata": {},
   "outputs": [
    {
     "data": {
      "text/plain": [
       "APAC      11002\n",
       "LATAM     10294\n",
       "EU        10000\n",
       "US         9994\n",
       "EMEA       5029\n",
       "Africa     4587\n",
       "Canada      384\n",
       "Name: Market, dtype: int64"
      ]
     },
     "execution_count": 8,
     "metadata": {},
     "output_type": "execute_result"
    }
   ],
   "source": [
    "#To find the ditinct Market in our Global Data set\n",
    "df['Market'].value_counts()"
   ]
  },
  {
   "cell_type": "markdown",
   "metadata": {},
   "source": [
    "#### Observation: \n",
    " There are 7 Distinct Market categories in the data set."
   ]
  },
  {
   "cell_type": "code",
   "execution_count": 9,
   "metadata": {},
   "outputs": [
    {
     "data": {
      "text/plain": [
       "(48,)"
      ]
     },
     "execution_count": 9,
     "metadata": {},
     "output_type": "execute_result"
    }
   ],
   "source": [
    "# To find the Overall count of month\n",
    "df['Order Date'].value_counts().shape"
   ]
  },
  {
   "cell_type": "markdown",
   "metadata": {},
   "source": [
    "#### Observation:\n",
    " We have 48 months of data provided for prediction of future Sales."
   ]
  },
  {
   "cell_type": "code",
   "execution_count": 10,
   "metadata": {},
   "outputs": [],
   "source": [
    "# To Aggregate the Segment and Market column \n",
    "df['Segment-Market']=df['Segment']+'-'+df['Market']"
   ]
  },
  {
   "cell_type": "code",
   "execution_count": 11,
   "metadata": {},
   "outputs": [
    {
     "data": {
      "text/plain": [
       "Consumer-APAC         5699\n",
       "Consumer-LATAM        5321\n",
       "Consumer-US           5191\n",
       "Consumer-EU           5186\n",
       "Corporate-APAC        3283\n",
       "Corporate-EU          3077\n",
       "Corporate-LATAM       3053\n",
       "Corporate-US          3020\n",
       "Consumer-EMEA         2538\n",
       "Consumer-Africa       2381\n",
       "Home Office-APAC      2020\n",
       "Home Office-LATAM     1920\n",
       "Home Office-US        1783\n",
       "Home Office-EU        1737\n",
       "Corporate-EMEA        1574\n",
       "Corporate-Africa      1312\n",
       "Home Office-EMEA       917\n",
       "Home Office-Africa     894\n",
       "Consumer-Canada        202\n",
       "Corporate-Canada       110\n",
       "Home Office-Canada      72\n",
       "Name: Segment-Market, dtype: int64"
      ]
     },
     "execution_count": 11,
     "metadata": {},
     "output_type": "execute_result"
    }
   ],
   "source": [
    "df['Segment-Market'].value_counts()\n",
    "# To check the Distint Segment-market values present in our data set"
   ]
  },
  {
   "cell_type": "code",
   "execution_count": 12,
   "metadata": {},
   "outputs": [
    {
     "data": {
      "text/html": [
       "<div>\n",
       "<style scoped>\n",
       "    .dataframe tbody tr th:only-of-type {\n",
       "        vertical-align: middle;\n",
       "    }\n",
       "\n",
       "    .dataframe tbody tr th {\n",
       "        vertical-align: top;\n",
       "    }\n",
       "\n",
       "    .dataframe thead th {\n",
       "        text-align: right;\n",
       "    }\n",
       "</style>\n",
       "<table border=\"1\" class=\"dataframe\">\n",
       "  <thead>\n",
       "    <tr style=\"text-align: right;\">\n",
       "      <th></th>\n",
       "      <th>Order Date</th>\n",
       "      <th>Segment</th>\n",
       "      <th>Market</th>\n",
       "      <th>Sales</th>\n",
       "      <th>Profit</th>\n",
       "      <th>Segment-Market</th>\n",
       "    </tr>\n",
       "  </thead>\n",
       "  <tbody>\n",
       "    <tr>\n",
       "      <th>0</th>\n",
       "      <td>2012-07</td>\n",
       "      <td>Consumer</td>\n",
       "      <td>US</td>\n",
       "      <td>2309.650</td>\n",
       "      <td>762.1845</td>\n",
       "      <td>Consumer-US</td>\n",
       "    </tr>\n",
       "    <tr>\n",
       "      <th>1</th>\n",
       "      <td>2013-05</td>\n",
       "      <td>Corporate</td>\n",
       "      <td>APAC</td>\n",
       "      <td>3709.395</td>\n",
       "      <td>-288.7650</td>\n",
       "      <td>Corporate-APAC</td>\n",
       "    </tr>\n",
       "    <tr>\n",
       "      <th>2</th>\n",
       "      <td>2013-10</td>\n",
       "      <td>Consumer</td>\n",
       "      <td>APAC</td>\n",
       "      <td>5175.171</td>\n",
       "      <td>919.9710</td>\n",
       "      <td>Consumer-APAC</td>\n",
       "    </tr>\n",
       "    <tr>\n",
       "      <th>3</th>\n",
       "      <td>2013-01</td>\n",
       "      <td>Home Office</td>\n",
       "      <td>EU</td>\n",
       "      <td>2892.510</td>\n",
       "      <td>-96.5400</td>\n",
       "      <td>Home Office-EU</td>\n",
       "    </tr>\n",
       "    <tr>\n",
       "      <th>4</th>\n",
       "      <td>2013-05</td>\n",
       "      <td>Consumer</td>\n",
       "      <td>Africa</td>\n",
       "      <td>2832.960</td>\n",
       "      <td>311.5200</td>\n",
       "      <td>Consumer-Africa</td>\n",
       "    </tr>\n",
       "  </tbody>\n",
       "</table>\n",
       "</div>"
      ],
      "text/plain": [
       "  Order Date      Segment  Market     Sales    Profit   Segment-Market\n",
       "0    2012-07     Consumer      US  2309.650  762.1845      Consumer-US\n",
       "1    2013-05    Corporate    APAC  3709.395 -288.7650   Corporate-APAC\n",
       "2    2013-10     Consumer    APAC  5175.171  919.9710    Consumer-APAC\n",
       "3    2013-01  Home Office      EU  2892.510  -96.5400   Home Office-EU\n",
       "4    2013-05     Consumer  Africa  2832.960  311.5200  Consumer-Africa"
      ]
     },
     "execution_count": 12,
     "metadata": {},
     "output_type": "execute_result"
    }
   ],
   "source": [
    "df.head()\n",
    "# To display first 5 rows after concatenation"
   ]
  },
  {
   "cell_type": "code",
   "execution_count": 13,
   "metadata": {},
   "outputs": [],
   "source": [
    "# Aggregate the data on year-month and market-seg to find the most profitable market Segement\n",
    "dfag = df.pivot_table(index = 'Order Date', values = 'Profit', columns = 'Segment-Market', aggfunc = 'sum')"
   ]
  },
  {
   "cell_type": "code",
   "execution_count": 14,
   "metadata": {},
   "outputs": [
    {
     "data": {
      "text/html": [
       "<div>\n",
       "<style scoped>\n",
       "    .dataframe tbody tr th:only-of-type {\n",
       "        vertical-align: middle;\n",
       "    }\n",
       "\n",
       "    .dataframe tbody tr th {\n",
       "        vertical-align: top;\n",
       "    }\n",
       "\n",
       "    .dataframe thead th {\n",
       "        text-align: right;\n",
       "    }\n",
       "</style>\n",
       "<table border=\"1\" class=\"dataframe\">\n",
       "  <thead>\n",
       "    <tr style=\"text-align: right;\">\n",
       "      <th>Segment-Market</th>\n",
       "      <th>Consumer-APAC</th>\n",
       "      <th>Consumer-Africa</th>\n",
       "      <th>Consumer-Canada</th>\n",
       "      <th>Consumer-EMEA</th>\n",
       "      <th>Consumer-EU</th>\n",
       "      <th>Consumer-LATAM</th>\n",
       "      <th>Consumer-US</th>\n",
       "      <th>Corporate-APAC</th>\n",
       "      <th>Corporate-Africa</th>\n",
       "      <th>Corporate-Canada</th>\n",
       "      <th>...</th>\n",
       "      <th>Corporate-EU</th>\n",
       "      <th>Corporate-LATAM</th>\n",
       "      <th>Corporate-US</th>\n",
       "      <th>Home Office-APAC</th>\n",
       "      <th>Home Office-Africa</th>\n",
       "      <th>Home Office-Canada</th>\n",
       "      <th>Home Office-EMEA</th>\n",
       "      <th>Home Office-EU</th>\n",
       "      <th>Home Office-LATAM</th>\n",
       "      <th>Home Office-US</th>\n",
       "    </tr>\n",
       "    <tr>\n",
       "      <th>Order Date</th>\n",
       "      <th></th>\n",
       "      <th></th>\n",
       "      <th></th>\n",
       "      <th></th>\n",
       "      <th></th>\n",
       "      <th></th>\n",
       "      <th></th>\n",
       "      <th></th>\n",
       "      <th></th>\n",
       "      <th></th>\n",
       "      <th></th>\n",
       "      <th></th>\n",
       "      <th></th>\n",
       "      <th></th>\n",
       "      <th></th>\n",
       "      <th></th>\n",
       "      <th></th>\n",
       "      <th></th>\n",
       "      <th></th>\n",
       "      <th></th>\n",
       "      <th></th>\n",
       "    </tr>\n",
       "  </thead>\n",
       "  <tbody>\n",
       "    <tr>\n",
       "      <th>2011-01</th>\n",
       "      <td>2254.4898</td>\n",
       "      <td>265.539</td>\n",
       "      <td>447.33</td>\n",
       "      <td>-2952.594</td>\n",
       "      <td>2259.8670</td>\n",
       "      <td>540.44312</td>\n",
       "      <td>2465.8368</td>\n",
       "      <td>-173.7264</td>\n",
       "      <td>520.026</td>\n",
       "      <td>12.57</td>\n",
       "      <td>...</td>\n",
       "      <td>841.3875</td>\n",
       "      <td>1021.05924</td>\n",
       "      <td>643.3689</td>\n",
       "      <td>230.2656</td>\n",
       "      <td>391.515</td>\n",
       "      <td>NaN</td>\n",
       "      <td>392.526</td>\n",
       "      <td>2534.568</td>\n",
       "      <td>-26.59744</td>\n",
       "      <td>1233.9329</td>\n",
       "    </tr>\n",
       "    <tr>\n",
       "      <th>2011-02</th>\n",
       "      <td>4627.8531</td>\n",
       "      <td>-201.888</td>\n",
       "      <td>26.43</td>\n",
       "      <td>464.160</td>\n",
       "      <td>-783.9945</td>\n",
       "      <td>1227.86616</td>\n",
       "      <td>1853.5541</td>\n",
       "      <td>3600.7776</td>\n",
       "      <td>-31.689</td>\n",
       "      <td>9.24</td>\n",
       "      <td>...</td>\n",
       "      <td>2234.4060</td>\n",
       "      <td>814.03020</td>\n",
       "      <td>421.9256</td>\n",
       "      <td>617.5407</td>\n",
       "      <td>825.606</td>\n",
       "      <td>87.99</td>\n",
       "      <td>368.070</td>\n",
       "      <td>162.255</td>\n",
       "      <td>-356.80440</td>\n",
       "      <td>553.9467</td>\n",
       "    </tr>\n",
       "    <tr>\n",
       "      <th>2011-03</th>\n",
       "      <td>2337.8319</td>\n",
       "      <td>919.074</td>\n",
       "      <td>82.47</td>\n",
       "      <td>706.380</td>\n",
       "      <td>1273.7100</td>\n",
       "      <td>2427.39612</td>\n",
       "      <td>204.2007</td>\n",
       "      <td>3634.9365</td>\n",
       "      <td>244.437</td>\n",
       "      <td>NaN</td>\n",
       "      <td>...</td>\n",
       "      <td>2206.5960</td>\n",
       "      <td>178.66400</td>\n",
       "      <td>127.4696</td>\n",
       "      <td>205.1052</td>\n",
       "      <td>83.430</td>\n",
       "      <td>84.03</td>\n",
       "      <td>-15.570</td>\n",
       "      <td>269.745</td>\n",
       "      <td>769.88400</td>\n",
       "      <td>-268.9314</td>\n",
       "    </tr>\n",
       "    <tr>\n",
       "      <th>2011-04</th>\n",
       "      <td>633.6423</td>\n",
       "      <td>381.315</td>\n",
       "      <td>55.08</td>\n",
       "      <td>121.353</td>\n",
       "      <td>2980.0065</td>\n",
       "      <td>1368.82948</td>\n",
       "      <td>1434.8636</td>\n",
       "      <td>90.7521</td>\n",
       "      <td>941.751</td>\n",
       "      <td>6.51</td>\n",
       "      <td>...</td>\n",
       "      <td>981.1470</td>\n",
       "      <td>872.64068</td>\n",
       "      <td>494.7315</td>\n",
       "      <td>603.8478</td>\n",
       "      <td>417.618</td>\n",
       "      <td>NaN</td>\n",
       "      <td>-456.510</td>\n",
       "      <td>130.371</td>\n",
       "      <td>-554.22952</td>\n",
       "      <td>2723.4358</td>\n",
       "    </tr>\n",
       "    <tr>\n",
       "      <th>2011-05</th>\n",
       "      <td>3838.9500</td>\n",
       "      <td>-39.981</td>\n",
       "      <td>0.87</td>\n",
       "      <td>172.554</td>\n",
       "      <td>673.0080</td>\n",
       "      <td>1749.39200</td>\n",
       "      <td>833.9433</td>\n",
       "      <td>1028.4489</td>\n",
       "      <td>490.650</td>\n",
       "      <td>NaN</td>\n",
       "      <td>...</td>\n",
       "      <td>1719.0600</td>\n",
       "      <td>134.87252</td>\n",
       "      <td>2912.7976</td>\n",
       "      <td>102.0315</td>\n",
       "      <td>39.180</td>\n",
       "      <td>NaN</td>\n",
       "      <td>-33.591</td>\n",
       "      <td>443.310</td>\n",
       "      <td>-397.95600</td>\n",
       "      <td>145.7781</td>\n",
       "    </tr>\n",
       "  </tbody>\n",
       "</table>\n",
       "<p>5 rows × 21 columns</p>\n",
       "</div>"
      ],
      "text/plain": [
       "Segment-Market  Consumer-APAC  Consumer-Africa  Consumer-Canada  \\\n",
       "Order Date                                                        \n",
       "2011-01             2254.4898          265.539           447.33   \n",
       "2011-02             4627.8531         -201.888            26.43   \n",
       "2011-03             2337.8319          919.074            82.47   \n",
       "2011-04              633.6423          381.315            55.08   \n",
       "2011-05             3838.9500          -39.981             0.87   \n",
       "\n",
       "Segment-Market  Consumer-EMEA  Consumer-EU  Consumer-LATAM  Consumer-US  \\\n",
       "Order Date                                                                \n",
       "2011-01             -2952.594    2259.8670       540.44312    2465.8368   \n",
       "2011-02               464.160    -783.9945      1227.86616    1853.5541   \n",
       "2011-03               706.380    1273.7100      2427.39612     204.2007   \n",
       "2011-04               121.353    2980.0065      1368.82948    1434.8636   \n",
       "2011-05               172.554     673.0080      1749.39200     833.9433   \n",
       "\n",
       "Segment-Market  Corporate-APAC  Corporate-Africa  Corporate-Canada  ...  \\\n",
       "Order Date                                                          ...   \n",
       "2011-01              -173.7264           520.026             12.57  ...   \n",
       "2011-02              3600.7776           -31.689              9.24  ...   \n",
       "2011-03              3634.9365           244.437               NaN  ...   \n",
       "2011-04                90.7521           941.751              6.51  ...   \n",
       "2011-05              1028.4489           490.650               NaN  ...   \n",
       "\n",
       "Segment-Market  Corporate-EU  Corporate-LATAM  Corporate-US  Home Office-APAC  \\\n",
       "Order Date                                                                      \n",
       "2011-01             841.3875       1021.05924      643.3689          230.2656   \n",
       "2011-02            2234.4060        814.03020      421.9256          617.5407   \n",
       "2011-03            2206.5960        178.66400      127.4696          205.1052   \n",
       "2011-04             981.1470        872.64068      494.7315          603.8478   \n",
       "2011-05            1719.0600        134.87252     2912.7976          102.0315   \n",
       "\n",
       "Segment-Market  Home Office-Africa  Home Office-Canada  Home Office-EMEA  \\\n",
       "Order Date                                                                 \n",
       "2011-01                    391.515                 NaN           392.526   \n",
       "2011-02                    825.606               87.99           368.070   \n",
       "2011-03                     83.430               84.03           -15.570   \n",
       "2011-04                    417.618                 NaN          -456.510   \n",
       "2011-05                     39.180                 NaN           -33.591   \n",
       "\n",
       "Segment-Market  Home Office-EU  Home Office-LATAM  Home Office-US  \n",
       "Order Date                                                         \n",
       "2011-01               2534.568          -26.59744       1233.9329  \n",
       "2011-02                162.255         -356.80440        553.9467  \n",
       "2011-03                269.745          769.88400       -268.9314  \n",
       "2011-04                130.371         -554.22952       2723.4358  \n",
       "2011-05                443.310         -397.95600        145.7781  \n",
       "\n",
       "[5 rows x 21 columns]"
      ]
     },
     "execution_count": 14,
     "metadata": {},
     "output_type": "execute_result"
    }
   ],
   "source": [
    "dfag.head()\n",
    "#Display first 5 rows of aggregated data"
   ]
  },
  {
   "cell_type": "code",
   "execution_count": 15,
   "metadata": {},
   "outputs": [
    {
     "data": {
      "text/plain": [
       "(48, 21)"
      ]
     },
     "execution_count": 15,
     "metadata": {},
     "output_type": "execute_result"
    }
   ],
   "source": [
    "# To check the size of aggreagated data frame in terms of Rows and column\n",
    "dfag.shape"
   ]
  },
  {
   "cell_type": "code",
   "execution_count": 16,
   "metadata": {},
   "outputs": [],
   "source": [
    "#To Split the data into train-test data set\n",
    "train_len = 42\n",
    "train_df = dfag[0:train_len]\n",
    "test_df = dfag[train_len:]"
   ]
  },
  {
   "cell_type": "markdown",
   "metadata": {},
   "source": [
    "#### Observation:\n",
    " As per problem statement, first 42 months of Data is taken as Train Data and remaining 6 months data is considered as Test Data set.\n"
   ]
  },
  {
   "cell_type": "code",
   "execution_count": 17,
   "metadata": {},
   "outputs": [
    {
     "data": {
      "text/html": [
       "<div>\n",
       "<style scoped>\n",
       "    .dataframe tbody tr th:only-of-type {\n",
       "        vertical-align: middle;\n",
       "    }\n",
       "\n",
       "    .dataframe tbody tr th {\n",
       "        vertical-align: top;\n",
       "    }\n",
       "\n",
       "    .dataframe thead th {\n",
       "        text-align: right;\n",
       "    }\n",
       "</style>\n",
       "<table border=\"1\" class=\"dataframe\">\n",
       "  <thead>\n",
       "    <tr style=\"text-align: right;\">\n",
       "      <th>Segment-Market</th>\n",
       "      <th>Consumer-APAC</th>\n",
       "      <th>Consumer-Africa</th>\n",
       "      <th>Consumer-Canada</th>\n",
       "      <th>Consumer-EMEA</th>\n",
       "      <th>Consumer-EU</th>\n",
       "      <th>Consumer-LATAM</th>\n",
       "      <th>Consumer-US</th>\n",
       "      <th>Corporate-APAC</th>\n",
       "      <th>Corporate-Africa</th>\n",
       "      <th>Corporate-Canada</th>\n",
       "      <th>...</th>\n",
       "      <th>Corporate-EU</th>\n",
       "      <th>Corporate-LATAM</th>\n",
       "      <th>Corporate-US</th>\n",
       "      <th>Home Office-APAC</th>\n",
       "      <th>Home Office-Africa</th>\n",
       "      <th>Home Office-Canada</th>\n",
       "      <th>Home Office-EMEA</th>\n",
       "      <th>Home Office-EU</th>\n",
       "      <th>Home Office-LATAM</th>\n",
       "      <th>Home Office-US</th>\n",
       "    </tr>\n",
       "    <tr>\n",
       "      <th>Order Date</th>\n",
       "      <th></th>\n",
       "      <th></th>\n",
       "      <th></th>\n",
       "      <th></th>\n",
       "      <th></th>\n",
       "      <th></th>\n",
       "      <th></th>\n",
       "      <th></th>\n",
       "      <th></th>\n",
       "      <th></th>\n",
       "      <th></th>\n",
       "      <th></th>\n",
       "      <th></th>\n",
       "      <th></th>\n",
       "      <th></th>\n",
       "      <th></th>\n",
       "      <th></th>\n",
       "      <th></th>\n",
       "      <th></th>\n",
       "      <th></th>\n",
       "      <th></th>\n",
       "    </tr>\n",
       "  </thead>\n",
       "  <tbody>\n",
       "    <tr>\n",
       "      <th>2011-01</th>\n",
       "      <td>2254.4898</td>\n",
       "      <td>265.539</td>\n",
       "      <td>447.33</td>\n",
       "      <td>-2952.594</td>\n",
       "      <td>2259.8670</td>\n",
       "      <td>540.44312</td>\n",
       "      <td>2465.8368</td>\n",
       "      <td>-173.7264</td>\n",
       "      <td>520.026</td>\n",
       "      <td>12.57</td>\n",
       "      <td>...</td>\n",
       "      <td>841.3875</td>\n",
       "      <td>1021.05924</td>\n",
       "      <td>643.3689</td>\n",
       "      <td>230.2656</td>\n",
       "      <td>391.515</td>\n",
       "      <td>NaN</td>\n",
       "      <td>392.526</td>\n",
       "      <td>2534.568</td>\n",
       "      <td>-26.59744</td>\n",
       "      <td>1233.9329</td>\n",
       "    </tr>\n",
       "    <tr>\n",
       "      <th>2011-02</th>\n",
       "      <td>4627.8531</td>\n",
       "      <td>-201.888</td>\n",
       "      <td>26.43</td>\n",
       "      <td>464.160</td>\n",
       "      <td>-783.9945</td>\n",
       "      <td>1227.86616</td>\n",
       "      <td>1853.5541</td>\n",
       "      <td>3600.7776</td>\n",
       "      <td>-31.689</td>\n",
       "      <td>9.24</td>\n",
       "      <td>...</td>\n",
       "      <td>2234.4060</td>\n",
       "      <td>814.03020</td>\n",
       "      <td>421.9256</td>\n",
       "      <td>617.5407</td>\n",
       "      <td>825.606</td>\n",
       "      <td>87.99</td>\n",
       "      <td>368.070</td>\n",
       "      <td>162.255</td>\n",
       "      <td>-356.80440</td>\n",
       "      <td>553.9467</td>\n",
       "    </tr>\n",
       "    <tr>\n",
       "      <th>2011-03</th>\n",
       "      <td>2337.8319</td>\n",
       "      <td>919.074</td>\n",
       "      <td>82.47</td>\n",
       "      <td>706.380</td>\n",
       "      <td>1273.7100</td>\n",
       "      <td>2427.39612</td>\n",
       "      <td>204.2007</td>\n",
       "      <td>3634.9365</td>\n",
       "      <td>244.437</td>\n",
       "      <td>NaN</td>\n",
       "      <td>...</td>\n",
       "      <td>2206.5960</td>\n",
       "      <td>178.66400</td>\n",
       "      <td>127.4696</td>\n",
       "      <td>205.1052</td>\n",
       "      <td>83.430</td>\n",
       "      <td>84.03</td>\n",
       "      <td>-15.570</td>\n",
       "      <td>269.745</td>\n",
       "      <td>769.88400</td>\n",
       "      <td>-268.9314</td>\n",
       "    </tr>\n",
       "    <tr>\n",
       "      <th>2011-04</th>\n",
       "      <td>633.6423</td>\n",
       "      <td>381.315</td>\n",
       "      <td>55.08</td>\n",
       "      <td>121.353</td>\n",
       "      <td>2980.0065</td>\n",
       "      <td>1368.82948</td>\n",
       "      <td>1434.8636</td>\n",
       "      <td>90.7521</td>\n",
       "      <td>941.751</td>\n",
       "      <td>6.51</td>\n",
       "      <td>...</td>\n",
       "      <td>981.1470</td>\n",
       "      <td>872.64068</td>\n",
       "      <td>494.7315</td>\n",
       "      <td>603.8478</td>\n",
       "      <td>417.618</td>\n",
       "      <td>NaN</td>\n",
       "      <td>-456.510</td>\n",
       "      <td>130.371</td>\n",
       "      <td>-554.22952</td>\n",
       "      <td>2723.4358</td>\n",
       "    </tr>\n",
       "    <tr>\n",
       "      <th>2011-05</th>\n",
       "      <td>3838.9500</td>\n",
       "      <td>-39.981</td>\n",
       "      <td>0.87</td>\n",
       "      <td>172.554</td>\n",
       "      <td>673.0080</td>\n",
       "      <td>1749.39200</td>\n",
       "      <td>833.9433</td>\n",
       "      <td>1028.4489</td>\n",
       "      <td>490.650</td>\n",
       "      <td>NaN</td>\n",
       "      <td>...</td>\n",
       "      <td>1719.0600</td>\n",
       "      <td>134.87252</td>\n",
       "      <td>2912.7976</td>\n",
       "      <td>102.0315</td>\n",
       "      <td>39.180</td>\n",
       "      <td>NaN</td>\n",
       "      <td>-33.591</td>\n",
       "      <td>443.310</td>\n",
       "      <td>-397.95600</td>\n",
       "      <td>145.7781</td>\n",
       "    </tr>\n",
       "  </tbody>\n",
       "</table>\n",
       "<p>5 rows × 21 columns</p>\n",
       "</div>"
      ],
      "text/plain": [
       "Segment-Market  Consumer-APAC  Consumer-Africa  Consumer-Canada  \\\n",
       "Order Date                                                        \n",
       "2011-01             2254.4898          265.539           447.33   \n",
       "2011-02             4627.8531         -201.888            26.43   \n",
       "2011-03             2337.8319          919.074            82.47   \n",
       "2011-04              633.6423          381.315            55.08   \n",
       "2011-05             3838.9500          -39.981             0.87   \n",
       "\n",
       "Segment-Market  Consumer-EMEA  Consumer-EU  Consumer-LATAM  Consumer-US  \\\n",
       "Order Date                                                                \n",
       "2011-01             -2952.594    2259.8670       540.44312    2465.8368   \n",
       "2011-02               464.160    -783.9945      1227.86616    1853.5541   \n",
       "2011-03               706.380    1273.7100      2427.39612     204.2007   \n",
       "2011-04               121.353    2980.0065      1368.82948    1434.8636   \n",
       "2011-05               172.554     673.0080      1749.39200     833.9433   \n",
       "\n",
       "Segment-Market  Corporate-APAC  Corporate-Africa  Corporate-Canada  ...  \\\n",
       "Order Date                                                          ...   \n",
       "2011-01              -173.7264           520.026             12.57  ...   \n",
       "2011-02              3600.7776           -31.689              9.24  ...   \n",
       "2011-03              3634.9365           244.437               NaN  ...   \n",
       "2011-04                90.7521           941.751              6.51  ...   \n",
       "2011-05              1028.4489           490.650               NaN  ...   \n",
       "\n",
       "Segment-Market  Corporate-EU  Corporate-LATAM  Corporate-US  Home Office-APAC  \\\n",
       "Order Date                                                                      \n",
       "2011-01             841.3875       1021.05924      643.3689          230.2656   \n",
       "2011-02            2234.4060        814.03020      421.9256          617.5407   \n",
       "2011-03            2206.5960        178.66400      127.4696          205.1052   \n",
       "2011-04             981.1470        872.64068      494.7315          603.8478   \n",
       "2011-05            1719.0600        134.87252     2912.7976          102.0315   \n",
       "\n",
       "Segment-Market  Home Office-Africa  Home Office-Canada  Home Office-EMEA  \\\n",
       "Order Date                                                                 \n",
       "2011-01                    391.515                 NaN           392.526   \n",
       "2011-02                    825.606               87.99           368.070   \n",
       "2011-03                     83.430               84.03           -15.570   \n",
       "2011-04                    417.618                 NaN          -456.510   \n",
       "2011-05                     39.180                 NaN           -33.591   \n",
       "\n",
       "Segment-Market  Home Office-EU  Home Office-LATAM  Home Office-US  \n",
       "Order Date                                                         \n",
       "2011-01               2534.568          -26.59744       1233.9329  \n",
       "2011-02                162.255         -356.80440        553.9467  \n",
       "2011-03                269.745          769.88400       -268.9314  \n",
       "2011-04                130.371         -554.22952       2723.4358  \n",
       "2011-05                443.310         -397.95600        145.7781  \n",
       "\n",
       "[5 rows x 21 columns]"
      ]
     },
     "execution_count": 17,
     "metadata": {},
     "output_type": "execute_result"
    }
   ],
   "source": [
    "#To display the first 5 rows in Train data set\n",
    "train_df.head()"
   ]
  },
  {
   "cell_type": "code",
   "execution_count": 18,
   "metadata": {},
   "outputs": [
    {
     "data": {
      "text/html": [
       "<div>\n",
       "<style scoped>\n",
       "    .dataframe tbody tr th:only-of-type {\n",
       "        vertical-align: middle;\n",
       "    }\n",
       "\n",
       "    .dataframe tbody tr th {\n",
       "        vertical-align: top;\n",
       "    }\n",
       "\n",
       "    .dataframe thead th {\n",
       "        text-align: right;\n",
       "    }\n",
       "</style>\n",
       "<table border=\"1\" class=\"dataframe\">\n",
       "  <thead>\n",
       "    <tr style=\"text-align: right;\">\n",
       "      <th>Segment-Market</th>\n",
       "      <th>Consumer-APAC</th>\n",
       "      <th>Consumer-Africa</th>\n",
       "      <th>Consumer-Canada</th>\n",
       "      <th>Consumer-EMEA</th>\n",
       "      <th>Consumer-EU</th>\n",
       "      <th>Consumer-LATAM</th>\n",
       "      <th>Consumer-US</th>\n",
       "      <th>Corporate-APAC</th>\n",
       "      <th>Corporate-Africa</th>\n",
       "      <th>Corporate-Canada</th>\n",
       "      <th>...</th>\n",
       "      <th>Corporate-EU</th>\n",
       "      <th>Corporate-LATAM</th>\n",
       "      <th>Corporate-US</th>\n",
       "      <th>Home Office-APAC</th>\n",
       "      <th>Home Office-Africa</th>\n",
       "      <th>Home Office-Canada</th>\n",
       "      <th>Home Office-EMEA</th>\n",
       "      <th>Home Office-EU</th>\n",
       "      <th>Home Office-LATAM</th>\n",
       "      <th>Home Office-US</th>\n",
       "    </tr>\n",
       "    <tr>\n",
       "      <th>Order Date</th>\n",
       "      <th></th>\n",
       "      <th></th>\n",
       "      <th></th>\n",
       "      <th></th>\n",
       "      <th></th>\n",
       "      <th></th>\n",
       "      <th></th>\n",
       "      <th></th>\n",
       "      <th></th>\n",
       "      <th></th>\n",
       "      <th></th>\n",
       "      <th></th>\n",
       "      <th></th>\n",
       "      <th></th>\n",
       "      <th></th>\n",
       "      <th></th>\n",
       "      <th></th>\n",
       "      <th></th>\n",
       "      <th></th>\n",
       "      <th></th>\n",
       "      <th></th>\n",
       "    </tr>\n",
       "  </thead>\n",
       "  <tbody>\n",
       "    <tr>\n",
       "      <th>2014-07</th>\n",
       "      <td>1415.0049</td>\n",
       "      <td>472.287</td>\n",
       "      <td>NaN</td>\n",
       "      <td>463.194</td>\n",
       "      <td>4224.1095</td>\n",
       "      <td>126.17668</td>\n",
       "      <td>1171.6925</td>\n",
       "      <td>3330.4251</td>\n",
       "      <td>389.322</td>\n",
       "      <td>65.10</td>\n",
       "      <td>...</td>\n",
       "      <td>3842.6700</td>\n",
       "      <td>1333.21772</td>\n",
       "      <td>2941.9503</td>\n",
       "      <td>2642.6874</td>\n",
       "      <td>795.960</td>\n",
       "      <td>10.80</td>\n",
       "      <td>1530.378</td>\n",
       "      <td>-1625.1780</td>\n",
       "      <td>1443.44916</td>\n",
       "      <td>1587.7943</td>\n",
       "    </tr>\n",
       "    <tr>\n",
       "      <th>2014-08</th>\n",
       "      <td>4405.5609</td>\n",
       "      <td>1848.834</td>\n",
       "      <td>617.01</td>\n",
       "      <td>1485.804</td>\n",
       "      <td>7316.4210</td>\n",
       "      <td>5135.04420</td>\n",
       "      <td>2806.9233</td>\n",
       "      <td>1623.9069</td>\n",
       "      <td>112.041</td>\n",
       "      <td>58.95</td>\n",
       "      <td>...</td>\n",
       "      <td>8370.2250</td>\n",
       "      <td>489.52444</td>\n",
       "      <td>3284.5880</td>\n",
       "      <td>1059.0081</td>\n",
       "      <td>1717.773</td>\n",
       "      <td>110.22</td>\n",
       "      <td>423.114</td>\n",
       "      <td>1471.8645</td>\n",
       "      <td>1142.49640</td>\n",
       "      <td>1168.9436</td>\n",
       "    </tr>\n",
       "    <tr>\n",
       "      <th>2014-09</th>\n",
       "      <td>4342.6419</td>\n",
       "      <td>2915.433</td>\n",
       "      <td>25.20</td>\n",
       "      <td>2444.796</td>\n",
       "      <td>5405.8485</td>\n",
       "      <td>4382.15812</td>\n",
       "      <td>4401.4550</td>\n",
       "      <td>4419.9804</td>\n",
       "      <td>350.439</td>\n",
       "      <td>128.04</td>\n",
       "      <td>...</td>\n",
       "      <td>4341.1080</td>\n",
       "      <td>1914.78796</td>\n",
       "      <td>5156.8145</td>\n",
       "      <td>7389.1881</td>\n",
       "      <td>499.089</td>\n",
       "      <td>63.48</td>\n",
       "      <td>-471.552</td>\n",
       "      <td>880.9695</td>\n",
       "      <td>1428.99836</td>\n",
       "      <td>2788.8755</td>\n",
       "    </tr>\n",
       "    <tr>\n",
       "      <th>2014-10</th>\n",
       "      <td>7997.8092</td>\n",
       "      <td>745.929</td>\n",
       "      <td>3.30</td>\n",
       "      <td>2005.428</td>\n",
       "      <td>6641.0205</td>\n",
       "      <td>4068.74672</td>\n",
       "      <td>2515.7175</td>\n",
       "      <td>4371.8221</td>\n",
       "      <td>2501.847</td>\n",
       "      <td>390.51</td>\n",
       "      <td>...</td>\n",
       "      <td>4256.6745</td>\n",
       "      <td>2687.02280</td>\n",
       "      <td>2505.4306</td>\n",
       "      <td>4151.0742</td>\n",
       "      <td>-1130.139</td>\n",
       "      <td>NaN</td>\n",
       "      <td>337.764</td>\n",
       "      <td>1480.4205</td>\n",
       "      <td>2149.39528</td>\n",
       "      <td>4104.2505</td>\n",
       "    </tr>\n",
       "    <tr>\n",
       "      <th>2014-11</th>\n",
       "      <td>13773.4995</td>\n",
       "      <td>1689.360</td>\n",
       "      <td>236.13</td>\n",
       "      <td>432.399</td>\n",
       "      <td>1635.9270</td>\n",
       "      <td>4208.42260</td>\n",
       "      <td>5981.7104</td>\n",
       "      <td>5588.2947</td>\n",
       "      <td>-381.669</td>\n",
       "      <td>104.13</td>\n",
       "      <td>...</td>\n",
       "      <td>5266.0665</td>\n",
       "      <td>1813.60880</td>\n",
       "      <td>2812.3922</td>\n",
       "      <td>3526.9944</td>\n",
       "      <td>2001.189</td>\n",
       "      <td>86.64</td>\n",
       "      <td>837.063</td>\n",
       "      <td>3157.5615</td>\n",
       "      <td>1342.24256</td>\n",
       "      <td>493.4159</td>\n",
       "    </tr>\n",
       "    <tr>\n",
       "      <th>2014-12</th>\n",
       "      <td>6045.4858</td>\n",
       "      <td>-123.438</td>\n",
       "      <td>208.53</td>\n",
       "      <td>894.621</td>\n",
       "      <td>8065.3410</td>\n",
       "      <td>6299.04436</td>\n",
       "      <td>4398.5922</td>\n",
       "      <td>2256.1737</td>\n",
       "      <td>385.047</td>\n",
       "      <td>1196.40</td>\n",
       "      <td>...</td>\n",
       "      <td>4232.6595</td>\n",
       "      <td>2486.67296</td>\n",
       "      <td>1601.5969</td>\n",
       "      <td>1210.5924</td>\n",
       "      <td>685.410</td>\n",
       "      <td>NaN</td>\n",
       "      <td>-243.990</td>\n",
       "      <td>3955.2420</td>\n",
       "      <td>1255.79648</td>\n",
       "      <td>2608.6367</td>\n",
       "    </tr>\n",
       "  </tbody>\n",
       "</table>\n",
       "<p>6 rows × 21 columns</p>\n",
       "</div>"
      ],
      "text/plain": [
       "Segment-Market  Consumer-APAC  Consumer-Africa  Consumer-Canada  \\\n",
       "Order Date                                                        \n",
       "2014-07             1415.0049          472.287              NaN   \n",
       "2014-08             4405.5609         1848.834           617.01   \n",
       "2014-09             4342.6419         2915.433            25.20   \n",
       "2014-10             7997.8092          745.929             3.30   \n",
       "2014-11            13773.4995         1689.360           236.13   \n",
       "2014-12             6045.4858         -123.438           208.53   \n",
       "\n",
       "Segment-Market  Consumer-EMEA  Consumer-EU  Consumer-LATAM  Consumer-US  \\\n",
       "Order Date                                                                \n",
       "2014-07               463.194    4224.1095       126.17668    1171.6925   \n",
       "2014-08              1485.804    7316.4210      5135.04420    2806.9233   \n",
       "2014-09              2444.796    5405.8485      4382.15812    4401.4550   \n",
       "2014-10              2005.428    6641.0205      4068.74672    2515.7175   \n",
       "2014-11               432.399    1635.9270      4208.42260    5981.7104   \n",
       "2014-12               894.621    8065.3410      6299.04436    4398.5922   \n",
       "\n",
       "Segment-Market  Corporate-APAC  Corporate-Africa  Corporate-Canada  ...  \\\n",
       "Order Date                                                          ...   \n",
       "2014-07              3330.4251           389.322             65.10  ...   \n",
       "2014-08              1623.9069           112.041             58.95  ...   \n",
       "2014-09              4419.9804           350.439            128.04  ...   \n",
       "2014-10              4371.8221          2501.847            390.51  ...   \n",
       "2014-11              5588.2947          -381.669            104.13  ...   \n",
       "2014-12              2256.1737           385.047           1196.40  ...   \n",
       "\n",
       "Segment-Market  Corporate-EU  Corporate-LATAM  Corporate-US  Home Office-APAC  \\\n",
       "Order Date                                                                      \n",
       "2014-07            3842.6700       1333.21772     2941.9503         2642.6874   \n",
       "2014-08            8370.2250        489.52444     3284.5880         1059.0081   \n",
       "2014-09            4341.1080       1914.78796     5156.8145         7389.1881   \n",
       "2014-10            4256.6745       2687.02280     2505.4306         4151.0742   \n",
       "2014-11            5266.0665       1813.60880     2812.3922         3526.9944   \n",
       "2014-12            4232.6595       2486.67296     1601.5969         1210.5924   \n",
       "\n",
       "Segment-Market  Home Office-Africa  Home Office-Canada  Home Office-EMEA  \\\n",
       "Order Date                                                                 \n",
       "2014-07                    795.960               10.80          1530.378   \n",
       "2014-08                   1717.773              110.22           423.114   \n",
       "2014-09                    499.089               63.48          -471.552   \n",
       "2014-10                  -1130.139                 NaN           337.764   \n",
       "2014-11                   2001.189               86.64           837.063   \n",
       "2014-12                    685.410                 NaN          -243.990   \n",
       "\n",
       "Segment-Market  Home Office-EU  Home Office-LATAM  Home Office-US  \n",
       "Order Date                                                         \n",
       "2014-07             -1625.1780         1443.44916       1587.7943  \n",
       "2014-08              1471.8645         1142.49640       1168.9436  \n",
       "2014-09               880.9695         1428.99836       2788.8755  \n",
       "2014-10              1480.4205         2149.39528       4104.2505  \n",
       "2014-11              3157.5615         1342.24256        493.4159  \n",
       "2014-12              3955.2420         1255.79648       2608.6367  \n",
       "\n",
       "[6 rows x 21 columns]"
      ]
     },
     "execution_count": 18,
     "metadata": {},
     "output_type": "execute_result"
    }
   ],
   "source": [
    "#To display the Test data set having 6 rows in total\n",
    "test_df"
   ]
  },
  {
   "cell_type": "code",
   "execution_count": 19,
   "metadata": {},
   "outputs": [],
   "source": [
    "#To find the Co-Variance on Profit for each of the 21 market segments\n",
    "cov_df = pd.DataFrame(columns = ['segment', 'cov'])\n",
    "# As part of the step, we are creating an empty Data Frame\n"
   ]
  },
  {
   "cell_type": "code",
   "execution_count": 20,
   "metadata": {},
   "outputs": [
    {
     "data": {
      "text/html": [
       "<div>\n",
       "<style scoped>\n",
       "    .dataframe tbody tr th:only-of-type {\n",
       "        vertical-align: middle;\n",
       "    }\n",
       "\n",
       "    .dataframe tbody tr th {\n",
       "        vertical-align: top;\n",
       "    }\n",
       "\n",
       "    .dataframe thead th {\n",
       "        text-align: right;\n",
       "    }\n",
       "</style>\n",
       "<table border=\"1\" class=\"dataframe\">\n",
       "  <thead>\n",
       "    <tr style=\"text-align: right;\">\n",
       "      <th></th>\n",
       "      <th>segment</th>\n",
       "      <th>cov</th>\n",
       "    </tr>\n",
       "  </thead>\n",
       "  <tbody>\n",
       "  </tbody>\n",
       "</table>\n",
       "</div>"
      ],
      "text/plain": [
       "Empty DataFrame\n",
       "Columns: [segment, cov]\n",
       "Index: []"
      ]
     },
     "execution_count": 20,
     "metadata": {},
     "output_type": "execute_result"
    }
   ],
   "source": [
    "cov_df"
   ]
  },
  {
   "cell_type": "code",
   "execution_count": 21,
   "metadata": {},
   "outputs": [
    {
     "data": {
      "text/html": [
       "<div>\n",
       "<style scoped>\n",
       "    .dataframe tbody tr th:only-of-type {\n",
       "        vertical-align: middle;\n",
       "    }\n",
       "\n",
       "    .dataframe tbody tr th {\n",
       "        vertical-align: top;\n",
       "    }\n",
       "\n",
       "    .dataframe thead th {\n",
       "        text-align: right;\n",
       "    }\n",
       "</style>\n",
       "<table border=\"1\" class=\"dataframe\">\n",
       "  <thead>\n",
       "    <tr style=\"text-align: right;\">\n",
       "      <th>Segment-Market</th>\n",
       "      <th>Consumer-APAC</th>\n",
       "      <th>Consumer-Africa</th>\n",
       "      <th>Consumer-Canada</th>\n",
       "      <th>Consumer-EMEA</th>\n",
       "      <th>Consumer-EU</th>\n",
       "      <th>Consumer-LATAM</th>\n",
       "      <th>Consumer-US</th>\n",
       "      <th>Corporate-APAC</th>\n",
       "      <th>Corporate-Africa</th>\n",
       "      <th>Corporate-Canada</th>\n",
       "      <th>...</th>\n",
       "      <th>Corporate-EU</th>\n",
       "      <th>Corporate-LATAM</th>\n",
       "      <th>Corporate-US</th>\n",
       "      <th>Home Office-APAC</th>\n",
       "      <th>Home Office-Africa</th>\n",
       "      <th>Home Office-Canada</th>\n",
       "      <th>Home Office-EMEA</th>\n",
       "      <th>Home Office-EU</th>\n",
       "      <th>Home Office-LATAM</th>\n",
       "      <th>Home Office-US</th>\n",
       "    </tr>\n",
       "    <tr>\n",
       "      <th>Order Date</th>\n",
       "      <th></th>\n",
       "      <th></th>\n",
       "      <th></th>\n",
       "      <th></th>\n",
       "      <th></th>\n",
       "      <th></th>\n",
       "      <th></th>\n",
       "      <th></th>\n",
       "      <th></th>\n",
       "      <th></th>\n",
       "      <th></th>\n",
       "      <th></th>\n",
       "      <th></th>\n",
       "      <th></th>\n",
       "      <th></th>\n",
       "      <th></th>\n",
       "      <th></th>\n",
       "      <th></th>\n",
       "      <th></th>\n",
       "      <th></th>\n",
       "      <th></th>\n",
       "    </tr>\n",
       "  </thead>\n",
       "  <tbody>\n",
       "    <tr>\n",
       "      <th>2011-01</th>\n",
       "      <td>2254.4898</td>\n",
       "      <td>265.539</td>\n",
       "      <td>447.33</td>\n",
       "      <td>-2952.594</td>\n",
       "      <td>2259.8670</td>\n",
       "      <td>540.44312</td>\n",
       "      <td>2465.8368</td>\n",
       "      <td>-173.7264</td>\n",
       "      <td>520.026</td>\n",
       "      <td>12.57</td>\n",
       "      <td>...</td>\n",
       "      <td>841.3875</td>\n",
       "      <td>1021.05924</td>\n",
       "      <td>643.3689</td>\n",
       "      <td>230.2656</td>\n",
       "      <td>391.515</td>\n",
       "      <td>NaN</td>\n",
       "      <td>392.526</td>\n",
       "      <td>2534.568</td>\n",
       "      <td>-26.59744</td>\n",
       "      <td>1233.9329</td>\n",
       "    </tr>\n",
       "    <tr>\n",
       "      <th>2011-02</th>\n",
       "      <td>4627.8531</td>\n",
       "      <td>-201.888</td>\n",
       "      <td>26.43</td>\n",
       "      <td>464.160</td>\n",
       "      <td>-783.9945</td>\n",
       "      <td>1227.86616</td>\n",
       "      <td>1853.5541</td>\n",
       "      <td>3600.7776</td>\n",
       "      <td>-31.689</td>\n",
       "      <td>9.24</td>\n",
       "      <td>...</td>\n",
       "      <td>2234.4060</td>\n",
       "      <td>814.03020</td>\n",
       "      <td>421.9256</td>\n",
       "      <td>617.5407</td>\n",
       "      <td>825.606</td>\n",
       "      <td>87.99</td>\n",
       "      <td>368.070</td>\n",
       "      <td>162.255</td>\n",
       "      <td>-356.80440</td>\n",
       "      <td>553.9467</td>\n",
       "    </tr>\n",
       "    <tr>\n",
       "      <th>2011-03</th>\n",
       "      <td>2337.8319</td>\n",
       "      <td>919.074</td>\n",
       "      <td>82.47</td>\n",
       "      <td>706.380</td>\n",
       "      <td>1273.7100</td>\n",
       "      <td>2427.39612</td>\n",
       "      <td>204.2007</td>\n",
       "      <td>3634.9365</td>\n",
       "      <td>244.437</td>\n",
       "      <td>NaN</td>\n",
       "      <td>...</td>\n",
       "      <td>2206.5960</td>\n",
       "      <td>178.66400</td>\n",
       "      <td>127.4696</td>\n",
       "      <td>205.1052</td>\n",
       "      <td>83.430</td>\n",
       "      <td>84.03</td>\n",
       "      <td>-15.570</td>\n",
       "      <td>269.745</td>\n",
       "      <td>769.88400</td>\n",
       "      <td>-268.9314</td>\n",
       "    </tr>\n",
       "    <tr>\n",
       "      <th>2011-04</th>\n",
       "      <td>633.6423</td>\n",
       "      <td>381.315</td>\n",
       "      <td>55.08</td>\n",
       "      <td>121.353</td>\n",
       "      <td>2980.0065</td>\n",
       "      <td>1368.82948</td>\n",
       "      <td>1434.8636</td>\n",
       "      <td>90.7521</td>\n",
       "      <td>941.751</td>\n",
       "      <td>6.51</td>\n",
       "      <td>...</td>\n",
       "      <td>981.1470</td>\n",
       "      <td>872.64068</td>\n",
       "      <td>494.7315</td>\n",
       "      <td>603.8478</td>\n",
       "      <td>417.618</td>\n",
       "      <td>NaN</td>\n",
       "      <td>-456.510</td>\n",
       "      <td>130.371</td>\n",
       "      <td>-554.22952</td>\n",
       "      <td>2723.4358</td>\n",
       "    </tr>\n",
       "    <tr>\n",
       "      <th>2011-05</th>\n",
       "      <td>3838.9500</td>\n",
       "      <td>-39.981</td>\n",
       "      <td>0.87</td>\n",
       "      <td>172.554</td>\n",
       "      <td>673.0080</td>\n",
       "      <td>1749.39200</td>\n",
       "      <td>833.9433</td>\n",
       "      <td>1028.4489</td>\n",
       "      <td>490.650</td>\n",
       "      <td>NaN</td>\n",
       "      <td>...</td>\n",
       "      <td>1719.0600</td>\n",
       "      <td>134.87252</td>\n",
       "      <td>2912.7976</td>\n",
       "      <td>102.0315</td>\n",
       "      <td>39.180</td>\n",
       "      <td>NaN</td>\n",
       "      <td>-33.591</td>\n",
       "      <td>443.310</td>\n",
       "      <td>-397.95600</td>\n",
       "      <td>145.7781</td>\n",
       "    </tr>\n",
       "  </tbody>\n",
       "</table>\n",
       "<p>5 rows × 21 columns</p>\n",
       "</div>"
      ],
      "text/plain": [
       "Segment-Market  Consumer-APAC  Consumer-Africa  Consumer-Canada  \\\n",
       "Order Date                                                        \n",
       "2011-01             2254.4898          265.539           447.33   \n",
       "2011-02             4627.8531         -201.888            26.43   \n",
       "2011-03             2337.8319          919.074            82.47   \n",
       "2011-04              633.6423          381.315            55.08   \n",
       "2011-05             3838.9500          -39.981             0.87   \n",
       "\n",
       "Segment-Market  Consumer-EMEA  Consumer-EU  Consumer-LATAM  Consumer-US  \\\n",
       "Order Date                                                                \n",
       "2011-01             -2952.594    2259.8670       540.44312    2465.8368   \n",
       "2011-02               464.160    -783.9945      1227.86616    1853.5541   \n",
       "2011-03               706.380    1273.7100      2427.39612     204.2007   \n",
       "2011-04               121.353    2980.0065      1368.82948    1434.8636   \n",
       "2011-05               172.554     673.0080      1749.39200     833.9433   \n",
       "\n",
       "Segment-Market  Corporate-APAC  Corporate-Africa  Corporate-Canada  ...  \\\n",
       "Order Date                                                          ...   \n",
       "2011-01              -173.7264           520.026             12.57  ...   \n",
       "2011-02              3600.7776           -31.689              9.24  ...   \n",
       "2011-03              3634.9365           244.437               NaN  ...   \n",
       "2011-04                90.7521           941.751              6.51  ...   \n",
       "2011-05              1028.4489           490.650               NaN  ...   \n",
       "\n",
       "Segment-Market  Corporate-EU  Corporate-LATAM  Corporate-US  Home Office-APAC  \\\n",
       "Order Date                                                                      \n",
       "2011-01             841.3875       1021.05924      643.3689          230.2656   \n",
       "2011-02            2234.4060        814.03020      421.9256          617.5407   \n",
       "2011-03            2206.5960        178.66400      127.4696          205.1052   \n",
       "2011-04             981.1470        872.64068      494.7315          603.8478   \n",
       "2011-05            1719.0600        134.87252     2912.7976          102.0315   \n",
       "\n",
       "Segment-Market  Home Office-Africa  Home Office-Canada  Home Office-EMEA  \\\n",
       "Order Date                                                                 \n",
       "2011-01                    391.515                 NaN           392.526   \n",
       "2011-02                    825.606               87.99           368.070   \n",
       "2011-03                     83.430               84.03           -15.570   \n",
       "2011-04                    417.618                 NaN          -456.510   \n",
       "2011-05                     39.180                 NaN           -33.591   \n",
       "\n",
       "Segment-Market  Home Office-EU  Home Office-LATAM  Home Office-US  \n",
       "Order Date                                                         \n",
       "2011-01               2534.568          -26.59744       1233.9329  \n",
       "2011-02                162.255         -356.80440        553.9467  \n",
       "2011-03                269.745          769.88400       -268.9314  \n",
       "2011-04                130.371         -554.22952       2723.4358  \n",
       "2011-05                443.310         -397.95600        145.7781  \n",
       "\n",
       "[5 rows x 21 columns]"
      ]
     },
     "execution_count": 21,
     "metadata": {},
     "output_type": "execute_result"
    }
   ],
   "source": [
    "train_df.head()"
   ]
  },
  {
   "cell_type": "code",
   "execution_count": 22,
   "metadata": {},
   "outputs": [],
   "source": [
    "# To find the Co-variance for each the Seegment-market in our dtaa set\n",
    "for i in train_df.columns:\n",
    "    temp={'segment':i,'cov':np.std(train_df[i])/np.mean(train_df[i])}\n",
    "    cov_df=cov_df.append(temp,ignore_index=True)"
   ]
  },
  {
   "cell_type": "code",
   "execution_count": 23,
   "metadata": {},
   "outputs": [
    {
     "data": {
      "text/html": [
       "<div>\n",
       "<style scoped>\n",
       "    .dataframe tbody tr th:only-of-type {\n",
       "        vertical-align: middle;\n",
       "    }\n",
       "\n",
       "    .dataframe tbody tr th {\n",
       "        vertical-align: top;\n",
       "    }\n",
       "\n",
       "    .dataframe thead th {\n",
       "        text-align: right;\n",
       "    }\n",
       "</style>\n",
       "<table border=\"1\" class=\"dataframe\">\n",
       "  <thead>\n",
       "    <tr style=\"text-align: right;\">\n",
       "      <th></th>\n",
       "      <th>segment</th>\n",
       "      <th>cov</th>\n",
       "    </tr>\n",
       "  </thead>\n",
       "  <tbody>\n",
       "    <tr>\n",
       "      <th>0</th>\n",
       "      <td>Consumer-APAC</td>\n",
       "      <td>0.522725</td>\n",
       "    </tr>\n",
       "    <tr>\n",
       "      <th>1</th>\n",
       "      <td>Consumer-Africa</td>\n",
       "      <td>1.310351</td>\n",
       "    </tr>\n",
       "    <tr>\n",
       "      <th>2</th>\n",
       "      <td>Consumer-Canada</td>\n",
       "      <td>1.250315</td>\n",
       "    </tr>\n",
       "    <tr>\n",
       "      <th>3</th>\n",
       "      <td>Consumer-EMEA</td>\n",
       "      <td>2.652495</td>\n",
       "    </tr>\n",
       "    <tr>\n",
       "      <th>4</th>\n",
       "      <td>Consumer-EU</td>\n",
       "      <td>0.595215</td>\n",
       "    </tr>\n",
       "    <tr>\n",
       "      <th>5</th>\n",
       "      <td>Consumer-LATAM</td>\n",
       "      <td>0.683770</td>\n",
       "    </tr>\n",
       "    <tr>\n",
       "      <th>6</th>\n",
       "      <td>Consumer-US</td>\n",
       "      <td>1.010530</td>\n",
       "    </tr>\n",
       "    <tr>\n",
       "      <th>7</th>\n",
       "      <td>Corporate-APAC</td>\n",
       "      <td>0.530051</td>\n",
       "    </tr>\n",
       "    <tr>\n",
       "      <th>8</th>\n",
       "      <td>Corporate-Africa</td>\n",
       "      <td>1.891744</td>\n",
       "    </tr>\n",
       "    <tr>\n",
       "      <th>9</th>\n",
       "      <td>Corporate-Canada</td>\n",
       "      <td>1.786025</td>\n",
       "    </tr>\n",
       "    <tr>\n",
       "      <th>10</th>\n",
       "      <td>Corporate-EMEA</td>\n",
       "      <td>6.355024</td>\n",
       "    </tr>\n",
       "    <tr>\n",
       "      <th>11</th>\n",
       "      <td>Corporate-EU</td>\n",
       "      <td>0.722076</td>\n",
       "    </tr>\n",
       "    <tr>\n",
       "      <th>12</th>\n",
       "      <td>Corporate-LATAM</td>\n",
       "      <td>0.882177</td>\n",
       "    </tr>\n",
       "    <tr>\n",
       "      <th>13</th>\n",
       "      <td>Corporate-US</td>\n",
       "      <td>1.071829</td>\n",
       "    </tr>\n",
       "    <tr>\n",
       "      <th>14</th>\n",
       "      <td>Home Office-APAC</td>\n",
       "      <td>1.008219</td>\n",
       "    </tr>\n",
       "    <tr>\n",
       "      <th>15</th>\n",
       "      <td>Home Office-Africa</td>\n",
       "      <td>2.012937</td>\n",
       "    </tr>\n",
       "    <tr>\n",
       "      <th>16</th>\n",
       "      <td>Home Office-Canada</td>\n",
       "      <td>2.369695</td>\n",
       "    </tr>\n",
       "    <tr>\n",
       "      <th>17</th>\n",
       "      <td>Home Office-EMEA</td>\n",
       "      <td>7.732073</td>\n",
       "    </tr>\n",
       "    <tr>\n",
       "      <th>18</th>\n",
       "      <td>Home Office-EU</td>\n",
       "      <td>0.938072</td>\n",
       "    </tr>\n",
       "    <tr>\n",
       "      <th>19</th>\n",
       "      <td>Home Office-LATAM</td>\n",
       "      <td>1.169693</td>\n",
       "    </tr>\n",
       "    <tr>\n",
       "      <th>20</th>\n",
       "      <td>Home Office-US</td>\n",
       "      <td>1.124030</td>\n",
       "    </tr>\n",
       "  </tbody>\n",
       "</table>\n",
       "</div>"
      ],
      "text/plain": [
       "               segment       cov\n",
       "0        Consumer-APAC  0.522725\n",
       "1      Consumer-Africa  1.310351\n",
       "2      Consumer-Canada  1.250315\n",
       "3        Consumer-EMEA  2.652495\n",
       "4          Consumer-EU  0.595215\n",
       "5       Consumer-LATAM  0.683770\n",
       "6          Consumer-US  1.010530\n",
       "7       Corporate-APAC  0.530051\n",
       "8     Corporate-Africa  1.891744\n",
       "9     Corporate-Canada  1.786025\n",
       "10      Corporate-EMEA  6.355024\n",
       "11        Corporate-EU  0.722076\n",
       "12     Corporate-LATAM  0.882177\n",
       "13        Corporate-US  1.071829\n",
       "14    Home Office-APAC  1.008219\n",
       "15  Home Office-Africa  2.012937\n",
       "16  Home Office-Canada  2.369695\n",
       "17    Home Office-EMEA  7.732073\n",
       "18      Home Office-EU  0.938072\n",
       "19   Home Office-LATAM  1.169693\n",
       "20      Home Office-US  1.124030"
      ]
     },
     "execution_count": 23,
     "metadata": {},
     "output_type": "execute_result"
    }
   ],
   "source": [
    "# To display the Covariance value for all 21 Market Segments\n",
    "cov_df"
   ]
  },
  {
   "cell_type": "markdown",
   "metadata": {},
   "source": [
    "#### Observation:\n",
    "1. There are in total 21 Distinct Market Segements (as above) and out of which 'Consumer-APAC' Market Segment is having the least value of Covarinace.\n",
    "2. Thus, based on Covraince value we can say that 'Consumer-APAC' is the most Consistent Market Segment."
   ]
  },
  {
   "cell_type": "markdown",
   "metadata": {},
   "source": [
    "### Model Building and Evaluation"
   ]
  },
  {
   "cell_type": "code",
   "execution_count": 24,
   "metadata": {},
   "outputs": [
    {
     "data": {
      "text/html": [
       "<div>\n",
       "<style scoped>\n",
       "    .dataframe tbody tr th:only-of-type {\n",
       "        vertical-align: middle;\n",
       "    }\n",
       "\n",
       "    .dataframe tbody tr th {\n",
       "        vertical-align: top;\n",
       "    }\n",
       "\n",
       "    .dataframe thead th {\n",
       "        text-align: right;\n",
       "    }\n",
       "</style>\n",
       "<table border=\"1\" class=\"dataframe\">\n",
       "  <thead>\n",
       "    <tr style=\"text-align: right;\">\n",
       "      <th></th>\n",
       "      <th>Order Date</th>\n",
       "      <th>Segment</th>\n",
       "      <th>Market</th>\n",
       "      <th>Sales</th>\n",
       "      <th>Profit</th>\n",
       "      <th>Segment-Market</th>\n",
       "    </tr>\n",
       "  </thead>\n",
       "  <tbody>\n",
       "    <tr>\n",
       "      <th>2</th>\n",
       "      <td>2013-10</td>\n",
       "      <td>Consumer</td>\n",
       "      <td>APAC</td>\n",
       "      <td>5175.171</td>\n",
       "      <td>919.971</td>\n",
       "      <td>Consumer-APAC</td>\n",
       "    </tr>\n",
       "    <tr>\n",
       "      <th>6</th>\n",
       "      <td>2011-07</td>\n",
       "      <td>Consumer</td>\n",
       "      <td>APAC</td>\n",
       "      <td>1822.080</td>\n",
       "      <td>564.840</td>\n",
       "      <td>Consumer-APAC</td>\n",
       "    </tr>\n",
       "    <tr>\n",
       "      <th>7</th>\n",
       "      <td>2012-04</td>\n",
       "      <td>Consumer</td>\n",
       "      <td>APAC</td>\n",
       "      <td>5244.840</td>\n",
       "      <td>996.480</td>\n",
       "      <td>Consumer-APAC</td>\n",
       "    </tr>\n",
       "    <tr>\n",
       "      <th>14</th>\n",
       "      <td>2013-06</td>\n",
       "      <td>Consumer</td>\n",
       "      <td>APAC</td>\n",
       "      <td>3701.520</td>\n",
       "      <td>1036.080</td>\n",
       "      <td>Consumer-APAC</td>\n",
       "    </tr>\n",
       "    <tr>\n",
       "      <th>29</th>\n",
       "      <td>2012-02</td>\n",
       "      <td>Consumer</td>\n",
       "      <td>APAC</td>\n",
       "      <td>1878.720</td>\n",
       "      <td>582.360</td>\n",
       "      <td>Consumer-APAC</td>\n",
       "    </tr>\n",
       "  </tbody>\n",
       "</table>\n",
       "</div>"
      ],
      "text/plain": [
       "   Order Date   Segment Market     Sales    Profit Segment-Market\n",
       "2     2013-10  Consumer   APAC  5175.171   919.971  Consumer-APAC\n",
       "6     2011-07  Consumer   APAC  1822.080   564.840  Consumer-APAC\n",
       "7     2012-04  Consumer   APAC  5244.840   996.480  Consumer-APAC\n",
       "14    2013-06  Consumer   APAC  3701.520  1036.080  Consumer-APAC\n",
       "29    2012-02  Consumer   APAC  1878.720   582.360  Consumer-APAC"
      ]
     },
     "execution_count": 24,
     "metadata": {},
     "output_type": "execute_result"
    }
   ],
   "source": [
    "# Filter tha data with Most Consistant Market-Segment\n",
    "df_f=df[df['Segment-Market']=='Consumer-APAC']\n",
    "df_f.head()"
   ]
  },
  {
   "cell_type": "code",
   "execution_count": 25,
   "metadata": {},
   "outputs": [
    {
     "data": {
      "text/plain": [
       "(5699, 6)"
      ]
     },
     "execution_count": 25,
     "metadata": {},
     "output_type": "execute_result"
    }
   ],
   "source": [
    "# To check the Size of Orders for Segement-Market column as  'Consumer-APAC'\n",
    "df_f.shape"
   ]
  },
  {
   "cell_type": "code",
   "execution_count": 26,
   "metadata": {},
   "outputs": [
    {
     "data": {
      "text/html": [
       "<div>\n",
       "<style scoped>\n",
       "    .dataframe tbody tr th:only-of-type {\n",
       "        vertical-align: middle;\n",
       "    }\n",
       "\n",
       "    .dataframe tbody tr th {\n",
       "        vertical-align: top;\n",
       "    }\n",
       "\n",
       "    .dataframe thead th {\n",
       "        text-align: right;\n",
       "    }\n",
       "</style>\n",
       "<table border=\"1\" class=\"dataframe\">\n",
       "  <thead>\n",
       "    <tr style=\"text-align: right;\">\n",
       "      <th></th>\n",
       "      <th>Order Date</th>\n",
       "      <th>Sales</th>\n",
       "    </tr>\n",
       "  </thead>\n",
       "  <tbody>\n",
       "    <tr>\n",
       "      <th>2</th>\n",
       "      <td>2013-10</td>\n",
       "      <td>5175.171</td>\n",
       "    </tr>\n",
       "    <tr>\n",
       "      <th>6</th>\n",
       "      <td>2011-07</td>\n",
       "      <td>1822.080</td>\n",
       "    </tr>\n",
       "    <tr>\n",
       "      <th>7</th>\n",
       "      <td>2012-04</td>\n",
       "      <td>5244.840</td>\n",
       "    </tr>\n",
       "    <tr>\n",
       "      <th>14</th>\n",
       "      <td>2013-06</td>\n",
       "      <td>3701.520</td>\n",
       "    </tr>\n",
       "    <tr>\n",
       "      <th>29</th>\n",
       "      <td>2012-02</td>\n",
       "      <td>1878.720</td>\n",
       "    </tr>\n",
       "  </tbody>\n",
       "</table>\n",
       "</div>"
      ],
      "text/plain": [
       "   Order Date     Sales\n",
       "2     2013-10  5175.171\n",
       "6     2011-07  1822.080\n",
       "7     2012-04  5244.840\n",
       "14    2013-06  3701.520\n",
       "29    2012-02  1878.720"
      ]
     },
     "execution_count": 26,
     "metadata": {},
     "output_type": "execute_result"
    }
   ],
   "source": [
    "# Considering the Order Date along with Sales on the given Month and year\n",
    "df_f=df_f[['Order Date','Sales']]\n",
    "df_f.head()"
   ]
  },
  {
   "cell_type": "code",
   "execution_count": 27,
   "metadata": {},
   "outputs": [
    {
     "data": {
      "text/html": [
       "<div>\n",
       "<style scoped>\n",
       "    .dataframe tbody tr th:only-of-type {\n",
       "        vertical-align: middle;\n",
       "    }\n",
       "\n",
       "    .dataframe tbody tr th {\n",
       "        vertical-align: top;\n",
       "    }\n",
       "\n",
       "    .dataframe thead th {\n",
       "        text-align: right;\n",
       "    }\n",
       "</style>\n",
       "<table border=\"1\" class=\"dataframe\">\n",
       "  <thead>\n",
       "    <tr style=\"text-align: right;\">\n",
       "      <th></th>\n",
       "      <th>Order Date</th>\n",
       "      <th>Sales</th>\n",
       "    </tr>\n",
       "  </thead>\n",
       "  <tbody>\n",
       "    <tr>\n",
       "      <th>2</th>\n",
       "      <td>2013-10</td>\n",
       "      <td>5175.1710</td>\n",
       "    </tr>\n",
       "    <tr>\n",
       "      <th>6</th>\n",
       "      <td>2011-07</td>\n",
       "      <td>1822.0800</td>\n",
       "    </tr>\n",
       "    <tr>\n",
       "      <th>7</th>\n",
       "      <td>2012-04</td>\n",
       "      <td>5244.8400</td>\n",
       "    </tr>\n",
       "    <tr>\n",
       "      <th>14</th>\n",
       "      <td>2013-06</td>\n",
       "      <td>3701.5200</td>\n",
       "    </tr>\n",
       "    <tr>\n",
       "      <th>29</th>\n",
       "      <td>2012-02</td>\n",
       "      <td>1878.7200</td>\n",
       "    </tr>\n",
       "    <tr>\n",
       "      <th>...</th>\n",
       "      <td>...</td>\n",
       "      <td>...</td>\n",
       "    </tr>\n",
       "    <tr>\n",
       "      <th>51215</th>\n",
       "      <td>2013-01</td>\n",
       "      <td>38.9709</td>\n",
       "    </tr>\n",
       "    <tr>\n",
       "      <th>51234</th>\n",
       "      <td>2014-12</td>\n",
       "      <td>6.9000</td>\n",
       "    </tr>\n",
       "    <tr>\n",
       "      <th>51235</th>\n",
       "      <td>2011-03</td>\n",
       "      <td>17.2800</td>\n",
       "    </tr>\n",
       "    <tr>\n",
       "      <th>51236</th>\n",
       "      <td>2013-07</td>\n",
       "      <td>30.6180</td>\n",
       "    </tr>\n",
       "    <tr>\n",
       "      <th>51252</th>\n",
       "      <td>2013-08</td>\n",
       "      <td>4.5600</td>\n",
       "    </tr>\n",
       "  </tbody>\n",
       "</table>\n",
       "<p>5699 rows × 2 columns</p>\n",
       "</div>"
      ],
      "text/plain": [
       "      Order Date      Sales\n",
       "2        2013-10  5175.1710\n",
       "6        2011-07  1822.0800\n",
       "7        2012-04  5244.8400\n",
       "14       2013-06  3701.5200\n",
       "29       2012-02  1878.7200\n",
       "...          ...        ...\n",
       "51215    2013-01    38.9709\n",
       "51234    2014-12     6.9000\n",
       "51235    2011-03    17.2800\n",
       "51236    2013-07    30.6180\n",
       "51252    2013-08     4.5600\n",
       "\n",
       "[5699 rows x 2 columns]"
      ]
     },
     "execution_count": 27,
     "metadata": {},
     "output_type": "execute_result"
    }
   ],
   "source": [
    "df_f"
   ]
  },
  {
   "cell_type": "code",
   "execution_count": 28,
   "metadata": {},
   "outputs": [],
   "source": [
    "#Aggregating the data based on Order date column and making it as as Index Column\n",
    "df_f=df_f.groupby('Order Date').sum()"
   ]
  },
  {
   "cell_type": "code",
   "execution_count": 29,
   "metadata": {},
   "outputs": [
    {
     "data": {
      "text/html": [
       "<div>\n",
       "<style scoped>\n",
       "    .dataframe tbody tr th:only-of-type {\n",
       "        vertical-align: middle;\n",
       "    }\n",
       "\n",
       "    .dataframe tbody tr th {\n",
       "        vertical-align: top;\n",
       "    }\n",
       "\n",
       "    .dataframe thead th {\n",
       "        text-align: right;\n",
       "    }\n",
       "</style>\n",
       "<table border=\"1\" class=\"dataframe\">\n",
       "  <thead>\n",
       "    <tr style=\"text-align: right;\">\n",
       "      <th></th>\n",
       "      <th>Sales</th>\n",
       "    </tr>\n",
       "    <tr>\n",
       "      <th>Order Date</th>\n",
       "      <th></th>\n",
       "    </tr>\n",
       "  </thead>\n",
       "  <tbody>\n",
       "    <tr>\n",
       "      <th>2011-01</th>\n",
       "      <td>18821.9898</td>\n",
       "    </tr>\n",
       "    <tr>\n",
       "      <th>2011-02</th>\n",
       "      <td>23313.3531</td>\n",
       "    </tr>\n",
       "    <tr>\n",
       "      <th>2011-03</th>\n",
       "      <td>26518.4919</td>\n",
       "    </tr>\n",
       "    <tr>\n",
       "      <th>2011-04</th>\n",
       "      <td>12046.0923</td>\n",
       "    </tr>\n",
       "    <tr>\n",
       "      <th>2011-05</th>\n",
       "      <td>25941.9000</td>\n",
       "    </tr>\n",
       "  </tbody>\n",
       "</table>\n",
       "</div>"
      ],
      "text/plain": [
       "                 Sales\n",
       "Order Date            \n",
       "2011-01     18821.9898\n",
       "2011-02     23313.3531\n",
       "2011-03     26518.4919\n",
       "2011-04     12046.0923\n",
       "2011-05     25941.9000"
      ]
     },
     "execution_count": 29,
     "metadata": {},
     "output_type": "execute_result"
    }
   ],
   "source": [
    "df_f.head()"
   ]
  },
  {
   "cell_type": "code",
   "execution_count": 30,
   "metadata": {},
   "outputs": [
    {
     "data": {
      "text/plain": [
       "(48, 1)"
      ]
     },
     "execution_count": 30,
     "metadata": {},
     "output_type": "execute_result"
    }
   ],
   "source": [
    "df_f.shape\n",
    "# We have data available for 48 months  out of which we be Splitting into train and testdata set for prediction in forthcomig steps\n"
   ]
  },
  {
   "cell_type": "markdown",
   "metadata": {},
   "source": [
    "#### Visualising Sales diustribution"
   ]
  },
  {
   "cell_type": "code",
   "execution_count": 31,
   "metadata": {},
   "outputs": [
    {
     "data": {
      "image/png": "[encoded data removed]",
      "text/plain": [
       "<Figure size 864x288 with 1 Axes>"
      ]
     },
     "metadata": {
      "needs_background": "light"
     },
     "output_type": "display_data"
    }
   ],
   "source": [
    "df_f.plot(figsize=(12,4))\n",
    "plt.title('Sales per month')\n",
    "plt.show()"
   ]
  },
  {
   "cell_type": "markdown",
   "metadata": {},
   "source": [
    "#### Observation:\n",
    "1. The graph captures an Overall Upward Trend in Sales per month.\n",
    "2. It also captures the Seasonality with repetitive pattern."
   ]
  },
  {
   "cell_type": "code",
   "execution_count": 32,
   "metadata": {},
   "outputs": [
    {
     "data": {
      "text/html": [
       "<div>\n",
       "<style scoped>\n",
       "    .dataframe tbody tr th:only-of-type {\n",
       "        vertical-align: middle;\n",
       "    }\n",
       "\n",
       "    .dataframe tbody tr th {\n",
       "        vertical-align: top;\n",
       "    }\n",
       "\n",
       "    .dataframe thead th {\n",
       "        text-align: right;\n",
       "    }\n",
       "</style>\n",
       "<table border=\"1\" class=\"dataframe\">\n",
       "  <thead>\n",
       "    <tr style=\"text-align: right;\">\n",
       "      <th></th>\n",
       "      <th>Sales</th>\n",
       "    </tr>\n",
       "    <tr>\n",
       "      <th>Order Date</th>\n",
       "      <th></th>\n",
       "    </tr>\n",
       "  </thead>\n",
       "  <tbody>\n",
       "    <tr>\n",
       "      <th>2011-01</th>\n",
       "      <td>18821.9898</td>\n",
       "    </tr>\n",
       "    <tr>\n",
       "      <th>2011-02</th>\n",
       "      <td>23313.3531</td>\n",
       "    </tr>\n",
       "    <tr>\n",
       "      <th>2011-03</th>\n",
       "      <td>26518.4919</td>\n",
       "    </tr>\n",
       "    <tr>\n",
       "      <th>2011-04</th>\n",
       "      <td>12046.0923</td>\n",
       "    </tr>\n",
       "    <tr>\n",
       "      <th>2011-05</th>\n",
       "      <td>25941.9000</td>\n",
       "    </tr>\n",
       "  </tbody>\n",
       "</table>\n",
       "</div>"
      ],
      "text/plain": [
       "                 Sales\n",
       "Order Date            \n",
       "2011-01     18821.9898\n",
       "2011-02     23313.3531\n",
       "2011-03     26518.4919\n",
       "2011-04     12046.0923\n",
       "2011-05     25941.9000"
      ]
     },
     "execution_count": 32,
     "metadata": {},
     "output_type": "execute_result"
    }
   ],
   "source": [
    "df_f.head()"
   ]
  },
  {
   "cell_type": "code",
   "execution_count": 33,
   "metadata": {},
   "outputs": [],
   "source": [
    "# Now again doing the Train-test split"
   ]
  },
  {
   "cell_type": "code",
   "execution_count": 34,
   "metadata": {},
   "outputs": [],
   "source": [
    "# Converting Order date from Year-month to date timeStamp format\n",
    "df_f=df_f.to_timestamp()"
   ]
  },
  {
   "cell_type": "code",
   "execution_count": 35,
   "metadata": {},
   "outputs": [
    {
     "data": {
      "text/html": [
       "<div>\n",
       "<style scoped>\n",
       "    .dataframe tbody tr th:only-of-type {\n",
       "        vertical-align: middle;\n",
       "    }\n",
       "\n",
       "    .dataframe tbody tr th {\n",
       "        vertical-align: top;\n",
       "    }\n",
       "\n",
       "    .dataframe thead th {\n",
       "        text-align: right;\n",
       "    }\n",
       "</style>\n",
       "<table border=\"1\" class=\"dataframe\">\n",
       "  <thead>\n",
       "    <tr style=\"text-align: right;\">\n",
       "      <th></th>\n",
       "      <th>Sales</th>\n",
       "    </tr>\n",
       "    <tr>\n",
       "      <th>Order Date</th>\n",
       "      <th></th>\n",
       "    </tr>\n",
       "  </thead>\n",
       "  <tbody>\n",
       "    <tr>\n",
       "      <th>2011-01-01</th>\n",
       "      <td>18821.9898</td>\n",
       "    </tr>\n",
       "    <tr>\n",
       "      <th>2011-02-01</th>\n",
       "      <td>23313.3531</td>\n",
       "    </tr>\n",
       "    <tr>\n",
       "      <th>2011-03-01</th>\n",
       "      <td>26518.4919</td>\n",
       "    </tr>\n",
       "    <tr>\n",
       "      <th>2011-04-01</th>\n",
       "      <td>12046.0923</td>\n",
       "    </tr>\n",
       "    <tr>\n",
       "      <th>2011-05-01</th>\n",
       "      <td>25941.9000</td>\n",
       "    </tr>\n",
       "  </tbody>\n",
       "</table>\n",
       "</div>"
      ],
      "text/plain": [
       "                 Sales\n",
       "Order Date            \n",
       "2011-01-01  18821.9898\n",
       "2011-02-01  23313.3531\n",
       "2011-03-01  26518.4919\n",
       "2011-04-01  12046.0923\n",
       "2011-05-01  25941.9000"
      ]
     },
     "execution_count": 35,
     "metadata": {},
     "output_type": "execute_result"
    }
   ],
   "source": [
    "df_f.head()\n",
    "# To dispaly updated data frame with Order date in date format"
   ]
  },
  {
   "cell_type": "code",
   "execution_count": 36,
   "metadata": {},
   "outputs": [
    {
     "data": {
      "text/plain": [
       "(48, 1)"
      ]
     },
     "execution_count": 36,
     "metadata": {},
     "output_type": "execute_result"
    }
   ],
   "source": [
    "df_f.shape\n",
    "# To check the size of data frame"
   ]
  },
  {
   "cell_type": "code",
   "execution_count": 37,
   "metadata": {},
   "outputs": [],
   "source": [
    "#Performing Train-Test Split\n",
    "train_len = 42\n",
    "train= df_f[0:train_len]\n",
    "test = df_f[train_len:]"
   ]
  },
  {
   "cell_type": "code",
   "execution_count": 38,
   "metadata": {},
   "outputs": [
    {
     "data": {
      "text/html": [
       "<div>\n",
       "<style scoped>\n",
       "    .dataframe tbody tr th:only-of-type {\n",
       "        vertical-align: middle;\n",
       "    }\n",
       "\n",
       "    .dataframe tbody tr th {\n",
       "        vertical-align: top;\n",
       "    }\n",
       "\n",
       "    .dataframe thead th {\n",
       "        text-align: right;\n",
       "    }\n",
       "</style>\n",
       "<table border=\"1\" class=\"dataframe\">\n",
       "  <thead>\n",
       "    <tr style=\"text-align: right;\">\n",
       "      <th></th>\n",
       "      <th>Sales</th>\n",
       "    </tr>\n",
       "    <tr>\n",
       "      <th>Order Date</th>\n",
       "      <th></th>\n",
       "    </tr>\n",
       "  </thead>\n",
       "  <tbody>\n",
       "    <tr>\n",
       "      <th>2011-01-01</th>\n",
       "      <td>18821.9898</td>\n",
       "    </tr>\n",
       "    <tr>\n",
       "      <th>2011-02-01</th>\n",
       "      <td>23313.3531</td>\n",
       "    </tr>\n",
       "    <tr>\n",
       "      <th>2011-03-01</th>\n",
       "      <td>26518.4919</td>\n",
       "    </tr>\n",
       "    <tr>\n",
       "      <th>2011-04-01</th>\n",
       "      <td>12046.0923</td>\n",
       "    </tr>\n",
       "    <tr>\n",
       "      <th>2011-05-01</th>\n",
       "      <td>25941.9000</td>\n",
       "    </tr>\n",
       "  </tbody>\n",
       "</table>\n",
       "</div>"
      ],
      "text/plain": [
       "                 Sales\n",
       "Order Date            \n",
       "2011-01-01  18821.9898\n",
       "2011-02-01  23313.3531\n",
       "2011-03-01  26518.4919\n",
       "2011-04-01  12046.0923\n",
       "2011-05-01  25941.9000"
      ]
     },
     "execution_count": 38,
     "metadata": {},
     "output_type": "execute_result"
    }
   ],
   "source": [
    "train.head()\n"
   ]
  },
  {
   "cell_type": "markdown",
   "metadata": {},
   "source": [
    "#### Observation:\n",
    " Train data set contains 42 months of data,which would be needed for model builing ad predicting the Sales future."
   ]
  },
  {
   "cell_type": "code",
   "execution_count": 39,
   "metadata": {},
   "outputs": [
    {
     "data": {
      "text/html": [
       "<div>\n",
       "<style scoped>\n",
       "    .dataframe tbody tr th:only-of-type {\n",
       "        vertical-align: middle;\n",
       "    }\n",
       "\n",
       "    .dataframe tbody tr th {\n",
       "        vertical-align: top;\n",
       "    }\n",
       "\n",
       "    .dataframe thead th {\n",
       "        text-align: right;\n",
       "    }\n",
       "</style>\n",
       "<table border=\"1\" class=\"dataframe\">\n",
       "  <thead>\n",
       "    <tr style=\"text-align: right;\">\n",
       "      <th></th>\n",
       "      <th>Sales</th>\n",
       "    </tr>\n",
       "    <tr>\n",
       "      <th>Order Date</th>\n",
       "      <th></th>\n",
       "    </tr>\n",
       "  </thead>\n",
       "  <tbody>\n",
       "    <tr>\n",
       "      <th>2014-07-01</th>\n",
       "      <td>43672.0749</td>\n",
       "    </tr>\n",
       "    <tr>\n",
       "      <th>2014-08-01</th>\n",
       "      <td>48848.3409</td>\n",
       "    </tr>\n",
       "    <tr>\n",
       "      <th>2014-09-01</th>\n",
       "      <td>45424.3119</td>\n",
       "    </tr>\n",
       "    <tr>\n",
       "      <th>2014-10-01</th>\n",
       "      <td>61221.9792</td>\n",
       "    </tr>\n",
       "    <tr>\n",
       "      <th>2014-11-01</th>\n",
       "      <td>79834.4295</td>\n",
       "    </tr>\n",
       "    <tr>\n",
       "      <th>2014-12-01</th>\n",
       "      <td>57099.9858</td>\n",
       "    </tr>\n",
       "  </tbody>\n",
       "</table>\n",
       "</div>"
      ],
      "text/plain": [
       "                 Sales\n",
       "Order Date            \n",
       "2014-07-01  43672.0749\n",
       "2014-08-01  48848.3409\n",
       "2014-09-01  45424.3119\n",
       "2014-10-01  61221.9792\n",
       "2014-11-01  79834.4295\n",
       "2014-12-01  57099.9858"
      ]
     },
     "execution_count": 39,
     "metadata": {},
     "output_type": "execute_result"
    }
   ],
   "source": [
    "test\n",
    "# Test data set contains last 6 months data from data set"
   ]
  },
  {
   "cell_type": "markdown",
   "metadata": {},
   "source": [
    "### Data Forecasting methods"
   ]
  },
  {
   "cell_type": "markdown",
   "metadata": {},
   "source": [
    "### Naive method"
   ]
  },
  {
   "cell_type": "code",
   "execution_count": 40,
   "metadata": {},
   "outputs": [],
   "source": [
    "y_hat_naive=test.copy()\n",
    "y_hat_naive['naive_forecast']=train['Sales'][train_len-1]"
   ]
  },
  {
   "cell_type": "code",
   "execution_count": 41,
   "metadata": {},
   "outputs": [
    {
     "data": {
      "text/html": [
       "<div>\n",
       "<style scoped>\n",
       "    .dataframe tbody tr th:only-of-type {\n",
       "        vertical-align: middle;\n",
       "    }\n",
       "\n",
       "    .dataframe tbody tr th {\n",
       "        vertical-align: top;\n",
       "    }\n",
       "\n",
       "    .dataframe thead th {\n",
       "        text-align: right;\n",
       "    }\n",
       "</style>\n",
       "<table border=\"1\" class=\"dataframe\">\n",
       "  <thead>\n",
       "    <tr style=\"text-align: right;\">\n",
       "      <th></th>\n",
       "      <th>Sales</th>\n",
       "      <th>naive_forecast</th>\n",
       "    </tr>\n",
       "    <tr>\n",
       "      <th>Order Date</th>\n",
       "      <th></th>\n",
       "      <th></th>\n",
       "    </tr>\n",
       "  </thead>\n",
       "  <tbody>\n",
       "    <tr>\n",
       "      <th>2014-07-01</th>\n",
       "      <td>43672.0749</td>\n",
       "      <td>55151.4699</td>\n",
       "    </tr>\n",
       "    <tr>\n",
       "      <th>2014-08-01</th>\n",
       "      <td>48848.3409</td>\n",
       "      <td>55151.4699</td>\n",
       "    </tr>\n",
       "    <tr>\n",
       "      <th>2014-09-01</th>\n",
       "      <td>45424.3119</td>\n",
       "      <td>55151.4699</td>\n",
       "    </tr>\n",
       "    <tr>\n",
       "      <th>2014-10-01</th>\n",
       "      <td>61221.9792</td>\n",
       "      <td>55151.4699</td>\n",
       "    </tr>\n",
       "    <tr>\n",
       "      <th>2014-11-01</th>\n",
       "      <td>79834.4295</td>\n",
       "      <td>55151.4699</td>\n",
       "    </tr>\n",
       "    <tr>\n",
       "      <th>2014-12-01</th>\n",
       "      <td>57099.9858</td>\n",
       "      <td>55151.4699</td>\n",
       "    </tr>\n",
       "  </tbody>\n",
       "</table>\n",
       "</div>"
      ],
      "text/plain": [
       "                 Sales  naive_forecast\n",
       "Order Date                            \n",
       "2014-07-01  43672.0749      55151.4699\n",
       "2014-08-01  48848.3409      55151.4699\n",
       "2014-09-01  45424.3119      55151.4699\n",
       "2014-10-01  61221.9792      55151.4699\n",
       "2014-11-01  79834.4295      55151.4699\n",
       "2014-12-01  57099.9858      55151.4699"
      ]
     },
     "execution_count": 41,
     "metadata": {},
     "output_type": "execute_result"
    }
   ],
   "source": [
    "y_hat_naive\n",
    "# It contains the Sales and  forcasted sales using naive method for 6 months"
   ]
  },
  {
   "cell_type": "markdown",
   "metadata": {},
   "source": [
    "#### Plotting  Train & Test forecast for Naive method"
   ]
  },
  {
   "cell_type": "code",
   "execution_count": 42,
   "metadata": {},
   "outputs": [
    {
     "data": {
      "image/png": "[encoded data removed]",
      "text/plain": [
       "<Figure size 864x288 with 1 Axes>"
      ]
     },
     "metadata": {
      "needs_background": "light"
     },
     "output_type": "display_data"
    }
   ],
   "source": [
    "plt.figure(figsize=(12,4))\n",
    "plt.plot(train['Sales'],label='Train')\n",
    "plt.plot(test['Sales'],label='Test')\n",
    "plt.plot(y_hat_naive['naive_forecast'],label='naive_forecast')\n",
    "plt.legend(loc='best')\n",
    "plt.title('Naive Method')\n",
    "plt.show()"
   ]
  },
  {
   "cell_type": "markdown",
   "metadata": {},
   "source": [
    "#### Observation:\n",
    "1. Here , the Green Straight line parallel to axis represents the Naive forrecast for 6 months duration.\n",
    "2. In Naive Method, Sales is predicted based on the Last Months Sale.\n",
    "3. It captures only the LEVEL with the forecast value as 55151.4699.\n",
    "\n"
   ]
  },
  {
   "cell_type": "markdown",
   "metadata": {},
   "source": [
    "####  MAPE for Naive method"
   ]
  },
  {
   "cell_type": "code",
   "execution_count": 43,
   "metadata": {},
   "outputs": [
    {
     "data": {
      "text/html": [
       "<div>\n",
       "<style scoped>\n",
       "    .dataframe tbody tr th:only-of-type {\n",
       "        vertical-align: middle;\n",
       "    }\n",
       "\n",
       "    .dataframe tbody tr th {\n",
       "        vertical-align: top;\n",
       "    }\n",
       "\n",
       "    .dataframe thead th {\n",
       "        text-align: right;\n",
       "    }\n",
       "</style>\n",
       "<table border=\"1\" class=\"dataframe\">\n",
       "  <thead>\n",
       "    <tr style=\"text-align: right;\">\n",
       "      <th></th>\n",
       "      <th>Method</th>\n",
       "      <th>MAPE</th>\n",
       "    </tr>\n",
       "  </thead>\n",
       "  <tbody>\n",
       "    <tr>\n",
       "      <th>0</th>\n",
       "      <td>Naive Method</td>\n",
       "      <td>17.47</td>\n",
       "    </tr>\n",
       "  </tbody>\n",
       "</table>\n",
       "</div>"
      ],
      "text/plain": [
       "         Method   MAPE\n",
       "0  Naive Method  17.47"
      ]
     },
     "execution_count": 43,
     "metadata": {},
     "output_type": "execute_result"
    }
   ],
   "source": [
    "from sklearn.metrics import mean_squared_error\n",
    "rmse=np.sqrt(mean_squared_error(test['Sales'],y_hat_naive['naive_forecast'])).round(2)\n",
    "mape=np.round(np.mean(np.abs(test['Sales']-y_hat_naive['naive_forecast'])/test['Sales'])*100,2)\n",
    "\n",
    "results=pd.DataFrame({'Method':['Naive Method'],'MAPE':[mape]})\n",
    "results=results[['Method','MAPE']]\n",
    "results"
   ]
  },
  {
   "cell_type": "markdown",
   "metadata": {},
   "source": [
    "#### Observation:\n",
    " We calculated the MAPE value for Naive method."
   ]
  },
  {
   "cell_type": "markdown",
   "metadata": {},
   "source": [
    "### Simple Average method"
   ]
  },
  {
   "cell_type": "code",
   "execution_count": 44,
   "metadata": {},
   "outputs": [],
   "source": [
    "y_hat_avg=test.copy()\n",
    "y_hat_avg['avg_forecast']=train['Sales'].mean()"
   ]
  },
  {
   "cell_type": "code",
   "execution_count": 45,
   "metadata": {},
   "outputs": [
    {
     "data": {
      "text/html": [
       "<div>\n",
       "<style scoped>\n",
       "    .dataframe tbody tr th:only-of-type {\n",
       "        vertical-align: middle;\n",
       "    }\n",
       "\n",
       "    .dataframe tbody tr th {\n",
       "        vertical-align: top;\n",
       "    }\n",
       "\n",
       "    .dataframe thead th {\n",
       "        text-align: right;\n",
       "    }\n",
       "</style>\n",
       "<table border=\"1\" class=\"dataframe\">\n",
       "  <thead>\n",
       "    <tr style=\"text-align: right;\">\n",
       "      <th></th>\n",
       "      <th>Sales</th>\n",
       "      <th>avg_forecast</th>\n",
       "    </tr>\n",
       "    <tr>\n",
       "      <th>Order Date</th>\n",
       "      <th></th>\n",
       "      <th></th>\n",
       "    </tr>\n",
       "  </thead>\n",
       "  <tbody>\n",
       "    <tr>\n",
       "      <th>2014-07-01</th>\n",
       "      <td>43672.0749</td>\n",
       "      <td>35253.632814</td>\n",
       "    </tr>\n",
       "    <tr>\n",
       "      <th>2014-08-01</th>\n",
       "      <td>48848.3409</td>\n",
       "      <td>35253.632814</td>\n",
       "    </tr>\n",
       "    <tr>\n",
       "      <th>2014-09-01</th>\n",
       "      <td>45424.3119</td>\n",
       "      <td>35253.632814</td>\n",
       "    </tr>\n",
       "    <tr>\n",
       "      <th>2014-10-01</th>\n",
       "      <td>61221.9792</td>\n",
       "      <td>35253.632814</td>\n",
       "    </tr>\n",
       "    <tr>\n",
       "      <th>2014-11-01</th>\n",
       "      <td>79834.4295</td>\n",
       "      <td>35253.632814</td>\n",
       "    </tr>\n",
       "    <tr>\n",
       "      <th>2014-12-01</th>\n",
       "      <td>57099.9858</td>\n",
       "      <td>35253.632814</td>\n",
       "    </tr>\n",
       "  </tbody>\n",
       "</table>\n",
       "</div>"
      ],
      "text/plain": [
       "                 Sales  avg_forecast\n",
       "Order Date                          \n",
       "2014-07-01  43672.0749  35253.632814\n",
       "2014-08-01  48848.3409  35253.632814\n",
       "2014-09-01  45424.3119  35253.632814\n",
       "2014-10-01  61221.9792  35253.632814\n",
       "2014-11-01  79834.4295  35253.632814\n",
       "2014-12-01  57099.9858  35253.632814"
      ]
     },
     "execution_count": 45,
     "metadata": {},
     "output_type": "execute_result"
    }
   ],
   "source": [
    "y_hat_avg\n",
    "# It contains Sales and forcasted Sales using Simplae Average method"
   ]
  },
  {
   "cell_type": "markdown",
   "metadata": {},
   "source": [
    "#### Plotting Train & Test forecast for Simple Average method"
   ]
  },
  {
   "cell_type": "code",
   "execution_count": 46,
   "metadata": {},
   "outputs": [
    {
     "data": {
      "image/png": "[encoded data removed]",
      "text/plain": [
       "<Figure size 864x288 with 1 Axes>"
      ]
     },
     "metadata": {
      "needs_background": "light"
     },
     "output_type": "display_data"
    }
   ],
   "source": [
    "plt.figure(figsize=(12,4))\n",
    "plt.plot(train['Sales'],label='Train')\n",
    "plt.plot(test['Sales'],label='Test')\n",
    "plt.plot(y_hat_avg['avg_forecast'],label='avg_forecast')\n",
    "plt.legend(loc='best')\n",
    "plt.title('Simple Average Method')\n",
    "plt.show()"
   ]
  },
  {
   "cell_type": "markdown",
   "metadata": {},
   "source": [
    "#### Observation:\n",
    "1. Here , the Green Straight line parallel to axis represents the Simple Average forecast for 6 months duration.\n",
    "2. In Simple Average Method, Predicted Sales is  the Average of all the previous months Train data.\n",
    "3. It capturesthe LEVEL of average values with forecast value as 35253.632814."
   ]
  },
  {
   "cell_type": "markdown",
   "metadata": {},
   "source": [
    "#### Calculate MAPE value for Simple Average method"
   ]
  },
  {
   "cell_type": "code",
   "execution_count": 47,
   "metadata": {},
   "outputs": [
    {
     "data": {
      "text/html": [
       "<div>\n",
       "<style scoped>\n",
       "    .dataframe tbody tr th:only-of-type {\n",
       "        vertical-align: middle;\n",
       "    }\n",
       "\n",
       "    .dataframe tbody tr th {\n",
       "        vertical-align: top;\n",
       "    }\n",
       "\n",
       "    .dataframe thead th {\n",
       "        text-align: right;\n",
       "    }\n",
       "</style>\n",
       "<table border=\"1\" class=\"dataframe\">\n",
       "  <thead>\n",
       "    <tr style=\"text-align: right;\">\n",
       "      <th></th>\n",
       "      <th>Method</th>\n",
       "      <th>MAPE</th>\n",
       "    </tr>\n",
       "  </thead>\n",
       "  <tbody>\n",
       "    <tr>\n",
       "      <th>0</th>\n",
       "      <td>Naive Method</td>\n",
       "      <td>17.47</td>\n",
       "    </tr>\n",
       "    <tr>\n",
       "      <th>0</th>\n",
       "      <td>Simple Average Method</td>\n",
       "      <td>34.34</td>\n",
       "    </tr>\n",
       "  </tbody>\n",
       "</table>\n",
       "</div>"
      ],
      "text/plain": [
       "                  Method   MAPE\n",
       "0           Naive Method  17.47\n",
       "0  Simple Average Method  34.34"
      ]
     },
     "execution_count": 47,
     "metadata": {},
     "output_type": "execute_result"
    }
   ],
   "source": [
    "rmse=np.sqrt(mean_squared_error(test['Sales'],y_hat_avg['avg_forecast'])).round(2)\n",
    "mape=np.round(np.mean(np.abs(test['Sales']-y_hat_avg['avg_forecast'])/test['Sales'])*100,2)\n",
    "\n",
    "tempResults=pd.DataFrame({'Method':['Simple Average Method'],'MAPE':[mape]})\n",
    "results=pd.concat([results,tempResults])\n",
    "results"
   ]
  },
  {
   "cell_type": "markdown",
   "metadata": {},
   "source": [
    "#### Observation:\n",
    "1. MAPE value of Simple Average Method is greater than Naive method in this case.\n",
    "2. It means Naive method is better amoing these two methods for the current problem statement."
   ]
  },
  {
   "cell_type": "markdown",
   "metadata": {},
   "source": [
    "### Simple Moving Average method"
   ]
  },
  {
   "cell_type": "code",
   "execution_count": 48,
   "metadata": {},
   "outputs": [],
   "source": [
    "y_hat_sma=df_f.copy()\n",
    "ma_window=12\n",
    "# Considering Wondow size of 12\n",
    "y_hat_sma['sma_forecast']=df_f['Sales'].rolling(ma_window).mean()\n",
    "y_hat_sma['sma_forecast'][train_len:]=y_hat_sma['sma_forecast'][train_len-1]\n"
   ]
  },
  {
   "cell_type": "markdown",
   "metadata": {},
   "source": [
    "#### Plotting Train & Test forecast for Simple Moving Average method"
   ]
  },
  {
   "cell_type": "code",
   "execution_count": 49,
   "metadata": {},
   "outputs": [
    {
     "data": {
      "image/png": "[encoded data removed]",
      "text/plain": [
       "<Figure size 864x288 with 1 Axes>"
      ]
     },
     "metadata": {
      "needs_background": "light"
     },
     "output_type": "display_data"
    }
   ],
   "source": [
    "plt.figure(figsize=(12,4))\n",
    "plt.plot(train['Sales'],label='Train')\n",
    "plt.plot(test['Sales'],label='Test')\n",
    "plt.plot(y_hat_sma['sma_forecast'],label='Simple Moving Average Forecast')\n",
    "plt.legend(loc='best')\n",
    "plt.title('Simple Moving Average Method')\n",
    "plt.show()"
   ]
  },
  {
   "cell_type": "markdown",
   "metadata": {},
   "source": [
    "#### Observation:\n",
    "1. Here , the Green line represents the Simple Moving Average.\n",
    "2. In Simple Moving Average Method, we have taken Moving window size of 12 months.\n",
    "   Predicted Sales is  the Average of  moving 12 months Train data window.\n",
    "3. It gives importance to the weight of each window and captures the increasing Trend."
   ]
  },
  {
   "cell_type": "markdown",
   "metadata": {},
   "source": [
    "#### Calculate MAPE value for Simple Moving Average method"
   ]
  },
  {
   "cell_type": "code",
   "execution_count": 50,
   "metadata": {},
   "outputs": [
    {
     "data": {
      "text/html": [
       "<div>\n",
       "<style scoped>\n",
       "    .dataframe tbody tr th:only-of-type {\n",
       "        vertical-align: middle;\n",
       "    }\n",
       "\n",
       "    .dataframe tbody tr th {\n",
       "        vertical-align: top;\n",
       "    }\n",
       "\n",
       "    .dataframe thead th {\n",
       "        text-align: right;\n",
       "    }\n",
       "</style>\n",
       "<table border=\"1\" class=\"dataframe\">\n",
       "  <thead>\n",
       "    <tr style=\"text-align: right;\">\n",
       "      <th></th>\n",
       "      <th>Method</th>\n",
       "      <th>MAPE</th>\n",
       "    </tr>\n",
       "  </thead>\n",
       "  <tbody>\n",
       "    <tr>\n",
       "      <th>0</th>\n",
       "      <td>Naive Method</td>\n",
       "      <td>17.47</td>\n",
       "    </tr>\n",
       "    <tr>\n",
       "      <th>0</th>\n",
       "      <td>Simple Average Method</td>\n",
       "      <td>34.34</td>\n",
       "    </tr>\n",
       "    <tr>\n",
       "      <th>0</th>\n",
       "      <td>Simple Moving Average Method</td>\n",
       "      <td>16.10</td>\n",
       "    </tr>\n",
       "  </tbody>\n",
       "</table>\n",
       "</div>"
      ],
      "text/plain": [
       "                         Method   MAPE\n",
       "0                  Naive Method  17.47\n",
       "0         Simple Average Method  34.34\n",
       "0  Simple Moving Average Method  16.10"
      ]
     },
     "execution_count": 50,
     "metadata": {},
     "output_type": "execute_result"
    }
   ],
   "source": [
    "from sklearn.metrics import mean_squared_error\n",
    "rmse=np.sqrt(mean_squared_error(test['Sales'],y_hat_sma['sma_forecast'][train_len:])).round(2)\n",
    "mape=np.round(np.mean(np.abs(test['Sales']-y_hat_sma['sma_forecast'][train_len:])/test['Sales'])*100,2)\n",
    "\n",
    "tempResults=pd.DataFrame({'Method':['Simple Moving Average Method'],'MAPE':[mape]})\n",
    "results=pd.concat([results,tempResults])\n",
    "results"
   ]
  },
  {
   "cell_type": "markdown",
   "metadata": {},
   "source": [
    "### Simple Exponential Smoothing"
   ]
  },
  {
   "cell_type": "code",
   "execution_count": 51,
   "metadata": {},
   "outputs": [],
   "source": [
    "from statsmodels.tsa.holtwinters import SimpleExpSmoothing\n",
    "model=SimpleExpSmoothing(train['Sales'])\n",
    "model_fit=model.fit(optimized=True)\n",
    "model_fit.params\n",
    "y_hat_ses=test.copy()\n",
    "y_hat_ses['ses_forecast']=model_fit.forecast(6)\n",
    "#creating seasonal forecast for 6 months"
   ]
  },
  {
   "cell_type": "markdown",
   "metadata": {},
   "source": [
    "#### Plotting Train & Test forecast for Simple Expoenential Smoothing method"
   ]
  },
  {
   "cell_type": "code",
   "execution_count": 52,
   "metadata": {},
   "outputs": [
    {
     "data": {
      "image/png": "[encoded data removed]",
      "text/plain": [
       "<Figure size 864x288 with 1 Axes>"
      ]
     },
     "metadata": {
      "needs_background": "light"
     },
     "output_type": "display_data"
    }
   ],
   "source": [
    "plt.figure(figsize=(12,4))\n",
    "plt.plot(train['Sales'],label='Train')\n",
    "plt.plot(test['Sales'],label='Test')\n",
    "plt.plot(y_hat_ses['ses_forecast'],label='Simple Exponential Forecast')\n",
    "plt.legend(loc='best')\n",
    "plt.title('Simple Exponential Forecast')\n",
    "plt.show()"
   ]
  },
  {
   "cell_type": "markdown",
   "metadata": {},
   "source": [
    "#### Observation:\n",
    "1. Here , the Green line parallel to axis represents the Simple Exponential Smoothing.\n",
    "2. In Simple Exponential Smoothing Method, most recent value gets the Higher weight while,\n",
    "   the Older values gets the lower weight assigned to them.\n",
    "3. It captures only the LEVEL of Data, by moving Averge window with higher weightage\n",
    "    to closest/latest data than older/past data.\n"
   ]
  },
  {
   "cell_type": "markdown",
   "metadata": {},
   "source": [
    "#### Calculate MAPE value for Simple Exponential Smoothing method"
   ]
  },
  {
   "cell_type": "code",
   "execution_count": 53,
   "metadata": {},
   "outputs": [
    {
     "data": {
      "text/html": [
       "<div>\n",
       "<style scoped>\n",
       "    .dataframe tbody tr th:only-of-type {\n",
       "        vertical-align: middle;\n",
       "    }\n",
       "\n",
       "    .dataframe tbody tr th {\n",
       "        vertical-align: top;\n",
       "    }\n",
       "\n",
       "    .dataframe thead th {\n",
       "        text-align: right;\n",
       "    }\n",
       "</style>\n",
       "<table border=\"1\" class=\"dataframe\">\n",
       "  <thead>\n",
       "    <tr style=\"text-align: right;\">\n",
       "      <th></th>\n",
       "      <th>Method</th>\n",
       "      <th>MAPE</th>\n",
       "    </tr>\n",
       "  </thead>\n",
       "  <tbody>\n",
       "    <tr>\n",
       "      <th>0</th>\n",
       "      <td>Naive Method</td>\n",
       "      <td>17.47</td>\n",
       "    </tr>\n",
       "    <tr>\n",
       "      <th>0</th>\n",
       "      <td>Simple Average Method</td>\n",
       "      <td>34.34</td>\n",
       "    </tr>\n",
       "    <tr>\n",
       "      <th>0</th>\n",
       "      <td>Simple Moving Average Method</td>\n",
       "      <td>16.10</td>\n",
       "    </tr>\n",
       "    <tr>\n",
       "      <th>0</th>\n",
       "      <td>Simple Exponential Smoothing</td>\n",
       "      <td>15.83</td>\n",
       "    </tr>\n",
       "  </tbody>\n",
       "</table>\n",
       "</div>"
      ],
      "text/plain": [
       "                         Method   MAPE\n",
       "0                  Naive Method  17.47\n",
       "0         Simple Average Method  34.34\n",
       "0  Simple Moving Average Method  16.10\n",
       "0  Simple Exponential Smoothing  15.83"
      ]
     },
     "execution_count": 53,
     "metadata": {},
     "output_type": "execute_result"
    }
   ],
   "source": [
    "from sklearn.metrics import mean_squared_error\n",
    "rmse=np.sqrt(mean_squared_error(test['Sales'],y_hat_ses['ses_forecast'])).round(2)\n",
    "mape=np.round(np.mean(np.abs(test['Sales']-y_hat_ses['ses_forecast'])/test['Sales'])*100,2)\n",
    "\n",
    "tempResults=pd.DataFrame({'Method':['Simple Exponential Smoothing'],'MAPE':[mape]})\n",
    "results=pd.concat([results,tempResults])\n",
    "results"
   ]
  },
  {
   "cell_type": "markdown",
   "metadata": {},
   "source": [
    "### Holt method"
   ]
  },
  {
   "cell_type": "code",
   "execution_count": 54,
   "metadata": {},
   "outputs": [
    {
     "name": "stdout",
     "output_type": "stream",
     "text": [
      "{'smoothing_level': 4.9871463551099955e-06, 'smoothing_slope': 4.983730054348859e-06, 'smoothing_seasonal': nan, 'damping_slope': nan, 'initial_level': 19518.11808456267, 'initial_slope': 732.447409703522, 'initial_seasons': array([], dtype=float64), 'use_boxcox': False, 'lamda': None, 'remove_bias': False}\n"
     ]
    },
    {
     "name": "stderr",
     "output_type": "stream",
     "text": [
      "C:\\Users\\d947438\\Anaconda3\\lib\\site-packages\\statsmodels\\tsa\\holtwinters.py:743: ConvergenceWarning: Optimization failed to converge. Check mle_retvals.\n",
      "  warn(\"Optimization failed to converge. Check mle_retvals.\",\n"
     ]
    }
   ],
   "source": [
    "from statsmodels.tsa.holtwinters import ExponentialSmoothing\n",
    "model=ExponentialSmoothing(np.asarray(train['Sales']),seasonal_periods=12,trend='additive',seasonal=None)\n",
    "model_fit=model.fit(optimized=True)\n",
    "print(model_fit.params)\n",
    "y_hat_holt=test.copy()\n",
    "y_hat_holt['holt_forecast']=model_fit.forecast(6)\n"
   ]
  },
  {
   "cell_type": "markdown",
   "metadata": {},
   "source": [
    "#### Plotting Train & Test forecast for Holt method"
   ]
  },
  {
   "cell_type": "code",
   "execution_count": 55,
   "metadata": {},
   "outputs": [
    {
     "data": {
      "image/png": "[encoded data removed]",
      "text/plain": [
       "<Figure size 864x288 with 1 Axes>"
      ]
     },
     "metadata": {
      "needs_background": "light"
     },
     "output_type": "display_data"
    }
   ],
   "source": [
    "plt.figure(figsize=(12,4))\n",
    "plt.plot(train['Sales'],label='Train')\n",
    "plt.plot(test['Sales'],label='Test')\n",
    "plt.plot(y_hat_holt['holt_forecast'],label='Holt Exponential Forecast')\n",
    "plt.legend(loc='best')\n",
    "plt.title('Holt Exponential Forecast')\n",
    "plt.show()"
   ]
  },
  {
   "cell_type": "markdown",
   "metadata": {},
   "source": [
    "#### Observation:\n",
    "1. Here, the Green line represent an Upward trend which is Holts Exponential Foreact.\n",
    "2. It captures both LEVEL as well as TREND , in the forecast.\n",
    "3. An upward  increasing trend and level is captured as part of the model."
   ]
  },
  {
   "cell_type": "markdown",
   "metadata": {},
   "source": [
    "#### Calculate MAPE value for Holt method"
   ]
  },
  {
   "cell_type": "code",
   "execution_count": 56,
   "metadata": {},
   "outputs": [
    {
     "data": {
      "text/html": [
       "<div>\n",
       "<style scoped>\n",
       "    .dataframe tbody tr th:only-of-type {\n",
       "        vertical-align: middle;\n",
       "    }\n",
       "\n",
       "    .dataframe tbody tr th {\n",
       "        vertical-align: top;\n",
       "    }\n",
       "\n",
       "    .dataframe thead th {\n",
       "        text-align: right;\n",
       "    }\n",
       "</style>\n",
       "<table border=\"1\" class=\"dataframe\">\n",
       "  <thead>\n",
       "    <tr style=\"text-align: right;\">\n",
       "      <th></th>\n",
       "      <th>Method</th>\n",
       "      <th>MAPE</th>\n",
       "    </tr>\n",
       "  </thead>\n",
       "  <tbody>\n",
       "    <tr>\n",
       "      <th>0</th>\n",
       "      <td>Naive Method</td>\n",
       "      <td>17.47</td>\n",
       "    </tr>\n",
       "    <tr>\n",
       "      <th>0</th>\n",
       "      <td>Simple Average Method</td>\n",
       "      <td>34.34</td>\n",
       "    </tr>\n",
       "    <tr>\n",
       "      <th>0</th>\n",
       "      <td>Simple Moving Average Method</td>\n",
       "      <td>16.10</td>\n",
       "    </tr>\n",
       "    <tr>\n",
       "      <th>0</th>\n",
       "      <td>Simple Exponential Smoothing</td>\n",
       "      <td>15.83</td>\n",
       "    </tr>\n",
       "    <tr>\n",
       "      <th>0</th>\n",
       "      <td>HOLT Exponential Forecast</td>\n",
       "      <td>14.67</td>\n",
       "    </tr>\n",
       "  </tbody>\n",
       "</table>\n",
       "</div>"
      ],
      "text/plain": [
       "                         Method   MAPE\n",
       "0                  Naive Method  17.47\n",
       "0         Simple Average Method  34.34\n",
       "0  Simple Moving Average Method  16.10\n",
       "0  Simple Exponential Smoothing  15.83\n",
       "0     HOLT Exponential Forecast  14.67"
      ]
     },
     "execution_count": 56,
     "metadata": {},
     "output_type": "execute_result"
    }
   ],
   "source": [
    "from sklearn.metrics import mean_squared_error\n",
    "rmse=np.sqrt(mean_squared_error(test['Sales'],y_hat_holt['holt_forecast'])).round(2)\n",
    "mape=np.round(np.mean(np.abs(test['Sales']-y_hat_holt['holt_forecast'])/test['Sales'])*100,2)\n",
    "\n",
    "tempResults=pd.DataFrame({'Method':['HOLT Exponential Forecast'],'MAPE':[mape]})\n",
    "results=pd.concat([results,tempResults])\n",
    "results"
   ]
  },
  {
   "cell_type": "markdown",
   "metadata": {},
   "source": [
    "#### Observation:\n",
    " Based on MAPE value, we can say that Holt Exponential Forecast method is performing better than other previous models.\n"
   ]
  },
  {
   "cell_type": "markdown",
   "metadata": {},
   "source": [
    "### Holt Winters Additive method"
   ]
  },
  {
   "cell_type": "code",
   "execution_count": 57,
   "metadata": {},
   "outputs": [
    {
     "name": "stdout",
     "output_type": "stream",
     "text": [
      "{'smoothing_level': 0.0010509388141032566, 'smoothing_slope': 0.0010509370471667254, 'smoothing_seasonal': 0.0, 'damping_slope': nan, 'initial_level': 29624.549305629498, 'initial_slope': 726.1284148593357, 'initial_seasons': array([-10914.24574131, -18060.72464413, -11449.93813176, -20493.07274934,\n",
      "        -9073.31688794,  -1568.37326276, -13896.80392851, -13464.39086896,\n",
      "       -12517.80722356,    690.05605158,  -4713.05363924,  -3071.06327142]), 'use_boxcox': False, 'lamda': None, 'remove_bias': False}\n"
     ]
    },
    {
     "name": "stderr",
     "output_type": "stream",
     "text": [
      "C:\\Users\\d947438\\Anaconda3\\lib\\site-packages\\statsmodels\\tsa\\holtwinters.py:743: ConvergenceWarning: Optimization failed to converge. Check mle_retvals.\n",
      "  warn(\"Optimization failed to converge. Check mle_retvals.\",\n"
     ]
    }
   ],
   "source": [
    "y_hat_hws=test.copy()\n",
    "model=ExponentialSmoothing(np.asarray(train['Sales']),seasonal_periods=12,trend='add',seasonal='add')\n",
    "model_fit=model.fit(optimized=True)\n",
    "print(model_fit.params)\n",
    "y_hat_hws['hws_forecast']=model_fit.forecast(6)\n"
   ]
  },
  {
   "cell_type": "markdown",
   "metadata": {},
   "source": [
    "#### Plotting Train & Test forecast for Holt Winters Additive method"
   ]
  },
  {
   "cell_type": "code",
   "execution_count": 58,
   "metadata": {},
   "outputs": [
    {
     "data": {
      "image/png": "[encoded data removed]",
      "text/plain": [
       "<Figure size 864x288 with 1 Axes>"
      ]
     },
     "metadata": {
      "needs_background": "light"
     },
     "output_type": "display_data"
    }
   ],
   "source": [
    "plt.figure(figsize=(12,4))\n",
    "plt.plot(train['Sales'],label='Train')\n",
    "plt.plot(test['Sales'],label='Test')\n",
    "plt.plot(y_hat_hws['hws_forecast'],label='Holt WINTERs Additive Forecast')\n",
    "plt.legend(loc='best')\n",
    "plt.title('Holt WINTERs Additive Forecast')\n",
    "plt.show()"
   ]
  },
  {
   "cell_type": "markdown",
   "metadata": {},
   "source": [
    "#### Observation:\n",
    "1. Here the Green line , represents the Holts Winter Additive forecast, obtained by following an Additive approach.\n",
    "2. We have captured the Level and an Upward Increasing Trend  and Seasonality, whihc is quite close to actual Test data.\n"
   ]
  },
  {
   "cell_type": "markdown",
   "metadata": {},
   "source": [
    "#### Calculate MAPE value for Holt Winters Additive method"
   ]
  },
  {
   "cell_type": "code",
   "execution_count": 59,
   "metadata": {},
   "outputs": [
    {
     "data": {
      "text/html": [
       "<div>\n",
       "<style scoped>\n",
       "    .dataframe tbody tr th:only-of-type {\n",
       "        vertical-align: middle;\n",
       "    }\n",
       "\n",
       "    .dataframe tbody tr th {\n",
       "        vertical-align: top;\n",
       "    }\n",
       "\n",
       "    .dataframe thead th {\n",
       "        text-align: right;\n",
       "    }\n",
       "</style>\n",
       "<table border=\"1\" class=\"dataframe\">\n",
       "  <thead>\n",
       "    <tr style=\"text-align: right;\">\n",
       "      <th></th>\n",
       "      <th>Method</th>\n",
       "      <th>MAPE</th>\n",
       "    </tr>\n",
       "  </thead>\n",
       "  <tbody>\n",
       "    <tr>\n",
       "      <th>0</th>\n",
       "      <td>Naive Method</td>\n",
       "      <td>17.47</td>\n",
       "    </tr>\n",
       "    <tr>\n",
       "      <th>0</th>\n",
       "      <td>Simple Average Method</td>\n",
       "      <td>34.34</td>\n",
       "    </tr>\n",
       "    <tr>\n",
       "      <th>0</th>\n",
       "      <td>Simple Moving Average Method</td>\n",
       "      <td>16.10</td>\n",
       "    </tr>\n",
       "    <tr>\n",
       "      <th>0</th>\n",
       "      <td>Simple Exponential Smoothing</td>\n",
       "      <td>15.83</td>\n",
       "    </tr>\n",
       "    <tr>\n",
       "      <th>0</th>\n",
       "      <td>HOLT Exponential Forecast</td>\n",
       "      <td>14.67</td>\n",
       "    </tr>\n",
       "    <tr>\n",
       "      <th>0</th>\n",
       "      <td>Holt WINTERs Additive Forecast</td>\n",
       "      <td>9.39</td>\n",
       "    </tr>\n",
       "  </tbody>\n",
       "</table>\n",
       "</div>"
      ],
      "text/plain": [
       "                           Method   MAPE\n",
       "0                    Naive Method  17.47\n",
       "0           Simple Average Method  34.34\n",
       "0    Simple Moving Average Method  16.10\n",
       "0    Simple Exponential Smoothing  15.83\n",
       "0       HOLT Exponential Forecast  14.67\n",
       "0  Holt WINTERs Additive Forecast   9.39"
      ]
     },
     "execution_count": 59,
     "metadata": {},
     "output_type": "execute_result"
    }
   ],
   "source": [
    "from sklearn.metrics import mean_squared_error\n",
    "rmse=np.sqrt(mean_squared_error(test['Sales'],y_hat_hws['hws_forecast'])).round(2)\n",
    "mape=np.round(np.mean(np.abs(test['Sales']-y_hat_hws['hws_forecast'])/test['Sales'])*100,2)\n",
    "\n",
    "tempResults=pd.DataFrame({'Method':['Holt WINTERs Additive Forecast'],'MAPE':[mape]})\n",
    "results=pd.concat([results,tempResults])\n",
    "results"
   ]
  },
  {
   "cell_type": "markdown",
   "metadata": {},
   "source": [
    "#### Observation:\n",
    "1. Holts Winter Additive is having least MAPE value and is perfoming better than previous Forecast models."
   ]
  },
  {
   "cell_type": "markdown",
   "metadata": {},
   "source": [
    "### Holt Winters Multiplicative method"
   ]
  },
  {
   "cell_type": "code",
   "execution_count": 60,
   "metadata": {},
   "outputs": [
    {
     "name": "stdout",
     "output_type": "stream",
     "text": [
      "{'smoothing_level': 9.582290725204863e-05, 'smoothing_slope': 9.582087430729273e-05, 'smoothing_seasonal': 0.0002891739565279278, 'damping_slope': nan, 'initial_level': 34110.96530959016, 'initial_slope': 730.416973137932, 'initial_seasons': array([0.71599532, 0.48679565, 0.68350968, 0.53337241, 0.73927219,\n",
      "       0.90249673, 0.62362308, 0.656219  , 0.6490747 , 0.93258796,\n",
      "       0.82846243, 0.88581098]), 'use_boxcox': False, 'lamda': None, 'remove_bias': False}\n"
     ]
    },
    {
     "name": "stderr",
     "output_type": "stream",
     "text": [
      "C:\\Users\\d947438\\Anaconda3\\lib\\site-packages\\statsmodels\\tsa\\holtwinters.py:743: ConvergenceWarning: Optimization failed to converge. Check mle_retvals.\n",
      "  warn(\"Optimization failed to converge. Check mle_retvals.\",\n"
     ]
    }
   ],
   "source": [
    "y_hat_hwm=test.copy()\n",
    "model=ExponentialSmoothing(np.asarray(train['Sales']),seasonal_periods=12,trend='add',seasonal='mul')\n",
    "model_fit=model.fit(optimized=True)\n",
    "print(model_fit.params)\n",
    "y_hat_hwm['hwm_forecast']=model_fit.forecast(6)\n",
    "#forecast data for next 6 months"
   ]
  },
  {
   "cell_type": "markdown",
   "metadata": {},
   "source": [
    "#### Plotting Train & Test forecast for Holt Winters Multiplicative method"
   ]
  },
  {
   "cell_type": "code",
   "execution_count": 61,
   "metadata": {},
   "outputs": [
    {
     "data": {
      "image/png": "[encoded data removed]",
      "text/plain": [
       "<Figure size 864x288 with 1 Axes>"
      ]
     },
     "metadata": {
      "needs_background": "light"
     },
     "output_type": "display_data"
    }
   ],
   "source": [
    "plt.figure(figsize=(12,4))\n",
    "plt.plot(train['Sales'],label='Train')\n",
    "plt.plot(test['Sales'],label='Test')\n",
    "plt.plot(y_hat_hwm['hwm_forecast'],label='Holt WINTERs Multiplicative Forecast')\n",
    "plt.legend(loc='best')\n",
    "plt.title('Holt WINTERs Multiplicative Forecast')\n",
    "plt.show()"
   ]
  },
  {
   "cell_type": "markdown",
   "metadata": {},
   "source": [
    "#### Observation:\n",
    "1. Here, Green Line is the Holts Winter Multiplicative forecast .\n",
    "2. It captures the Trend and level and Seasonality using Multiplicative approach in calculation.\n",
    "3. We observe the Forecast value is quite close to the test data."
   ]
  },
  {
   "cell_type": "markdown",
   "metadata": {},
   "source": [
    "#### Calculate MAPE value for Holt Winters Multiplicative method"
   ]
  },
  {
   "cell_type": "code",
   "execution_count": 62,
   "metadata": {},
   "outputs": [
    {
     "data": {
      "text/html": [
       "<div>\n",
       "<style scoped>\n",
       "    .dataframe tbody tr th:only-of-type {\n",
       "        vertical-align: middle;\n",
       "    }\n",
       "\n",
       "    .dataframe tbody tr th {\n",
       "        vertical-align: top;\n",
       "    }\n",
       "\n",
       "    .dataframe thead th {\n",
       "        text-align: right;\n",
       "    }\n",
       "</style>\n",
       "<table border=\"1\" class=\"dataframe\">\n",
       "  <thead>\n",
       "    <tr style=\"text-align: right;\">\n",
       "      <th></th>\n",
       "      <th>Method</th>\n",
       "      <th>MAPE</th>\n",
       "    </tr>\n",
       "  </thead>\n",
       "  <tbody>\n",
       "    <tr>\n",
       "      <th>0</th>\n",
       "      <td>Naive Method</td>\n",
       "      <td>17.47</td>\n",
       "    </tr>\n",
       "    <tr>\n",
       "      <th>0</th>\n",
       "      <td>Simple Average Method</td>\n",
       "      <td>34.34</td>\n",
       "    </tr>\n",
       "    <tr>\n",
       "      <th>0</th>\n",
       "      <td>Simple Moving Average Method</td>\n",
       "      <td>16.10</td>\n",
       "    </tr>\n",
       "    <tr>\n",
       "      <th>0</th>\n",
       "      <td>Simple Exponential Smoothing</td>\n",
       "      <td>15.83</td>\n",
       "    </tr>\n",
       "    <tr>\n",
       "      <th>0</th>\n",
       "      <td>HOLT Exponential Forecast</td>\n",
       "      <td>14.67</td>\n",
       "    </tr>\n",
       "    <tr>\n",
       "      <th>0</th>\n",
       "      <td>Holt WINTERs Additive Forecast</td>\n",
       "      <td>9.39</td>\n",
       "    </tr>\n",
       "    <tr>\n",
       "      <th>0</th>\n",
       "      <td>Holt WINTERs Multiplicative Forecast</td>\n",
       "      <td>10.20</td>\n",
       "    </tr>\n",
       "  </tbody>\n",
       "</table>\n",
       "</div>"
      ],
      "text/plain": [
       "                                 Method   MAPE\n",
       "0                          Naive Method  17.47\n",
       "0                 Simple Average Method  34.34\n",
       "0          Simple Moving Average Method  16.10\n",
       "0          Simple Exponential Smoothing  15.83\n",
       "0             HOLT Exponential Forecast  14.67\n",
       "0        Holt WINTERs Additive Forecast   9.39\n",
       "0  Holt WINTERs Multiplicative Forecast  10.20"
      ]
     },
     "execution_count": 62,
     "metadata": {},
     "output_type": "execute_result"
    }
   ],
   "source": [
    "from sklearn.metrics import mean_squared_error\n",
    "rmse=np.sqrt(mean_squared_error(test['Sales'],y_hat_hwm['hwm_forecast'])).round(2)\n",
    "mape=np.round(np.mean(np.abs(test['Sales']-y_hat_hwm['hwm_forecast'])/test['Sales'])*100,2)\n",
    "\n",
    "tempResults=pd.DataFrame({'Method':['Holt WINTERs Multiplicative Forecast'],'MAPE':[mape]})\n",
    "results=pd.concat([results,tempResults])\n",
    "results"
   ]
  },
  {
   "cell_type": "markdown",
   "metadata": {},
   "source": [
    "### Auto Regressive (AR) model"
   ]
  },
  {
   "cell_type": "code",
   "execution_count": 63,
   "metadata": {},
   "outputs": [
    {
     "data": {
      "image/png": "[encoded data removed]",
      "text/plain": [
       "<Figure size 864x288 with 1 Axes>"
      ]
     },
     "metadata": {
      "needs_background": "light"
     },
     "output_type": "display_data"
    }
   ],
   "source": [
    "df_f['Sales'].plot(figsize=(12,4))\n",
    "plt.legend(loc='best')\n",
    "plt.title('Sales data per months')\n",
    "plt.show()"
   ]
  },
  {
   "cell_type": "markdown",
   "metadata": {},
   "source": [
    "#### Observation: \n",
    " Sales data captured per month with an Increasing Upwardc Trend overall."
   ]
  },
  {
   "cell_type": "markdown",
   "metadata": {},
   "source": [
    "#### Augmented Dicky-Fuller (ADF) test: To test the Stationarity of Time Series"
   ]
  },
  {
   "cell_type": "code",
   "execution_count": 64,
   "metadata": {},
   "outputs": [
    {
     "data": {
      "text/plain": [
       "(-3.3760244736258023,\n",
       " 0.011803859657119784,\n",
       " 0,\n",
       " 47,\n",
       " {'1%': -3.5778480370438146,\n",
       "  '5%': -2.925338105429433,\n",
       "  '10%': -2.6007735310095064},\n",
       " 804.80930070885)"
      ]
     },
     "execution_count": 64,
     "metadata": {},
     "output_type": "execute_result"
    }
   ],
   "source": [
    "from statsmodels.tsa.stattools import adfuller\n",
    "adf_test=adfuller(df_f['Sales'])\n",
    "adf_test"
   ]
  },
  {
   "cell_type": "code",
   "execution_count": 65,
   "metadata": {},
   "outputs": [
    {
     "name": "stdout",
     "output_type": "stream",
     "text": [
      "ADF statistic: -3.376024\n",
      "Critical value @ 0.05: -2.93\n",
      "p-value: 0.011804\n"
     ]
    }
   ],
   "source": [
    "print('ADF statistic: %f' %adf_test[0])\n",
    "print('Critical value @ 0.05: %.2f' %adf_test[4]['5%'])\n",
    "print('p-value: %f' %adf_test[1])\n"
   ]
  },
  {
   "cell_type": "markdown",
   "metadata": {},
   "source": [
    "#### Observation:\n",
    "1. In ADF test:\n",
    "* For Null Hypothesis(H0)  Time Series is non-Stationary when p-value>0.05 and\n",
    "* For Alternate Hypothesis(H1) Time Series is Stationary when p-value<=0.05\n",
    "\n",
    "2. In our case,as p-value <0.05, we reject the Null Hypothesis, TS Stationary.\n",
    "\n",
    "    "
   ]
  },
  {
   "cell_type": "markdown",
   "metadata": {},
   "source": [
    "### KPSS ( Kwiatkowski–Phillips–Schmidt–Shin)  test"
   ]
  },
  {
   "cell_type": "code",
   "execution_count": 66,
   "metadata": {},
   "outputs": [
    {
     "data": {
      "text/plain": [
       "(0.5770764651955996,\n",
       " 0.024720321345854578,\n",
       " 10,\n",
       " {'10%': 0.347, '5%': 0.463, '2.5%': 0.574, '1%': 0.739})"
      ]
     },
     "execution_count": 66,
     "metadata": {},
     "output_type": "execute_result"
    }
   ],
   "source": [
    "from statsmodels.tsa.stattools import kpss\n",
    "kpss_test=kpss(df_f['Sales'])\n",
    "\n",
    "kpss_test"
   ]
  },
  {
   "cell_type": "code",
   "execution_count": 67,
   "metadata": {},
   "outputs": [
    {
     "name": "stdout",
     "output_type": "stream",
     "text": [
      "KPSS statistic 0.577076\n",
      "Critical value @ 0.05: 0.46\n",
      "p-value: 0.024720\n"
     ]
    }
   ],
   "source": [
    "print('KPSS statistic %f' % kpss_test[0])\n",
    "print('Critical value @ 0.05: %.2f' %kpss_test[3]['5%'])\n",
    "print('p-value: %f' %kpss_test[1])"
   ]
  },
  {
   "cell_type": "markdown",
   "metadata": {},
   "source": [
    "#### Observation:\n",
    "1. In KPSS test:\n",
    "- For Null Hypothesis(H0)  Time Series is Stationary when p-value>0.05 and\n",
    "- For Alternate Hypothesis(H1) Time Series is non Stationary when p-value<=0.05\n",
    "\n",
    "2. In our case,as p-value <0.05, we reject the Null Hypothesis and TS is non-Stationary.\n"
   ]
  },
  {
   "cell_type": "markdown",
   "metadata": {},
   "source": [
    "### Boxcox Transformation method"
   ]
  },
  {
   "cell_type": "code",
   "execution_count": 68,
   "metadata": {},
   "outputs": [
    {
     "data": {
      "image/png": "[encoded data removed]",
      "text/plain": [
       "<Figure size 864x288 with 1 Axes>"
      ]
     },
     "metadata": {
      "needs_background": "light"
     },
     "output_type": "display_data"
    }
   ],
   "source": [
    "# BOX COX used for Transformation of data\n",
    "from scipy.stats import boxcox\n",
    "df_boxcox=pd.Series(boxcox(df_f['Sales'],lmbda=0),index=df_f.index)\n",
    "\n",
    "plt.figure(figsize=(12,4))\n",
    "plt.plot(df_boxcox,label='After box cox transformation')\n",
    "plt.legend(loc='best')\n",
    "plt.title('After Box Cox transformation')\n",
    "plt.show()\n"
   ]
  },
  {
   "cell_type": "markdown",
   "metadata": {},
   "source": [
    "#### Observation:\n",
    "1. Using Box Cox Transformation, Variance is made Constant.\n",
    "2. It helps in converting Non-Stationary Time Series into Stationary Time series.\n"
   ]
  },
  {
   "cell_type": "code",
   "execution_count": 69,
   "metadata": {},
   "outputs": [
    {
     "data": {
      "text/plain": [
       "Order Date\n",
       "2011-01-01     9.842781\n",
       "2011-02-01    10.056782\n",
       "2011-03-01    10.185598\n",
       "2011-04-01     9.396496\n",
       "2011-05-01    10.163615\n",
       "Freq: MS, dtype: float64"
      ]
     },
     "execution_count": 69,
     "metadata": {},
     "output_type": "execute_result"
    }
   ],
   "source": [
    "df_boxcox.head()"
   ]
  },
  {
   "cell_type": "markdown",
   "metadata": {},
   "source": [
    "#### Differencing Method"
   ]
  },
  {
   "cell_type": "code",
   "execution_count": 70,
   "metadata": {},
   "outputs": [
    {
     "data": {
      "text/plain": [
       "Order Date\n",
       "2011-01-01         NaN\n",
       "2011-02-01    0.214000\n",
       "2011-03-01    0.128816\n",
       "2011-04-01   -0.789102\n",
       "2011-05-01    0.767119\n",
       "Freq: MS, dtype: float64"
      ]
     },
     "execution_count": 70,
     "metadata": {},
     "output_type": "execute_result"
    }
   ],
   "source": [
    "df_boxcox_diff=pd.Series(df_boxcox-df_boxcox.shift(),index=df_f.index)\n",
    "df_boxcox_diff.head()"
   ]
  },
  {
   "cell_type": "code",
   "execution_count": 71,
   "metadata": {},
   "outputs": [
    {
     "data": {
      "image/png": "[encoded data removed]",
      "text/plain": [
       "<Figure size 864x288 with 1 Axes>"
      ]
     },
     "metadata": {
      "needs_background": "light"
     },
     "output_type": "display_data"
    }
   ],
   "source": [
    "df_boxcox_diff=pd.Series(df_boxcox-df_boxcox.shift(),index=df_f.index)\n",
    "df_boxcox_diff.dropna(inplace=True)\n",
    "plt.figure(figsize=(12,4))\n",
    "plt.plot(df_boxcox_diff,label='After box cox tranformation and diffderencing :')\n",
    "plt.legend(loc='best')\n",
    "plt.title('After box cox tranformation and differencing :')\n",
    "plt.show()\n"
   ]
  },
  {
   "cell_type": "markdown",
   "metadata": {},
   "source": [
    "#### Observation:\n",
    "1. Differencing is used to make then Mean Constant for given data.\n",
    "2. It help to convert make Non-Stationary series into Stationary Time Series."
   ]
  },
  {
   "cell_type": "markdown",
   "metadata": {},
   "source": [
    "#### Augmented Dicky-Fuller (ADF) test: To test the Stationarity of Time Series after Conversion"
   ]
  },
  {
   "cell_type": "code",
   "execution_count": 72,
   "metadata": {},
   "outputs": [
    {
     "data": {
      "text/plain": [
       "(-3.3760244736258023,\n",
       " 0.011803859657119784,\n",
       " 0,\n",
       " 47,\n",
       " {'1%': -3.5778480370438146,\n",
       "  '5%': -2.925338105429433,\n",
       "  '10%': -2.6007735310095064},\n",
       " 804.80930070885)"
      ]
     },
     "execution_count": 72,
     "metadata": {},
     "output_type": "execute_result"
    }
   ],
   "source": [
    "adf_test"
   ]
  },
  {
   "cell_type": "code",
   "execution_count": 73,
   "metadata": {},
   "outputs": [
    {
     "name": "stdout",
     "output_type": "stream",
     "text": [
      "ADF statistic -4.535011\n",
      "Critical value @ 0.05: -2.945951.2\n",
      "p-value: 0.000170\n"
     ]
    }
   ],
   "source": [
    "adf_test=adfuller(df_boxcox_diff)\n",
    "\n",
    "print('ADF statistic %f' % adf_test[0])\n",
    "print('Critical value @ 0.05: %f.2' %adf_test[4]['5%'])\n",
    "print('p-value: %f' %adf_test[1])\n"
   ]
  },
  {
   "cell_type": "markdown",
   "metadata": {},
   "source": [
    "#### Observation:\n",
    "1. In ADF test:\n",
    "- For Null Hypothesis(H0)  Time Series is non-Stationary when p-value>0.05 and\n",
    "- For Alternate Hypothesis(H1) Time Series is Stationary when p-value<=0.05\n",
    "\n",
    "2. In our case,as p-value <0.05, we reject the Null Hypothesis thus, TS Stationary.\n",
    "\n"
   ]
  },
  {
   "cell_type": "markdown",
   "metadata": {},
   "source": [
    "#### KPSS Test"
   ]
  },
  {
   "cell_type": "code",
   "execution_count": 74,
   "metadata": {},
   "outputs": [
    {
     "name": "stderr",
     "output_type": "stream",
     "text": [
      "C:\\Users\\d947438\\Anaconda3\\lib\\site-packages\\statsmodels\\tsa\\stattools.py:1687: InterpolationWarning: p-value is greater than the indicated p-value\n",
      "  warn(\"p-value is greater than the indicated p-value\", InterpolationWarning)\n"
     ]
    }
   ],
   "source": [
    "kpss_test=kpss(df_boxcox_diff)"
   ]
  },
  {
   "cell_type": "code",
   "execution_count": 75,
   "metadata": {},
   "outputs": [
    {
     "name": "stdout",
     "output_type": "stream",
     "text": [
      "KPSS statistic 0.156456\n",
      "Critical value @ 0.05: 0.46\n",
      "p-value: 0.100000\n"
     ]
    }
   ],
   "source": [
    "print('KPSS statistic %f' % kpss_test[0])\n",
    "print('Critical value @ 0.05: %.2f' %kpss_test[3]['5%'])\n",
    "print('p-value: %f' %kpss_test[1])"
   ]
  },
  {
   "cell_type": "markdown",
   "metadata": {},
   "source": [
    "#### Observation:\n",
    "1. In KPSS test:\n",
    "- For Null Hypothesis(H0)  Time Series is Stationary when p-value>0.05 and\n",
    "- For Alternate Hypothesis(H1) Time Series is non Stationary when p-value<=0.05\n",
    "\n",
    "2. In our case,as p-value >0.05, we Fail to reject the Null Hypothesis and, thus Time Series is Stationary.\n"
   ]
  },
  {
   "cell_type": "markdown",
   "metadata": {},
   "source": [
    "As per the Problem Statement , T=taking the value of p=1,q=1, and d=1 covered in ACF and PACF"
   ]
  },
  {
   "cell_type": "markdown",
   "metadata": {},
   "source": [
    "### Train-Test Split"
   ]
  },
  {
   "cell_type": "code",
   "execution_count": 76,
   "metadata": {},
   "outputs": [],
   "source": [
    "train_df_boxcox=df_boxcox[:train_len]\n",
    "test_df_boxcox=df_boxcox[train_len:]\n",
    "train_df_boxcox_diff=df_boxcox_diff[:train_len-1]\n",
    "test_df_boxcox_diff=df_boxcox_diff[train_len-1:]"
   ]
  },
  {
   "cell_type": "markdown",
   "metadata": {},
   "source": [
    "### AR(Auto Regression) Method"
   ]
  },
  {
   "cell_type": "code",
   "execution_count": 77,
   "metadata": {},
   "outputs": [
    {
     "name": "stdout",
     "output_type": "stream",
     "text": [
      "const      0.024255\n",
      "ar.L1.y   -0.406729\n",
      "dtype: float64\n"
     ]
    }
   ],
   "source": [
    "from statsmodels.tsa.arima_model import ARIMA\n",
    "model=ARIMA(train_df_boxcox_diff,order=(1,0,0))\n",
    "model_fit=model.fit()\n",
    "print(model_fit.params)"
   ]
  },
  {
   "cell_type": "markdown",
   "metadata": {},
   "source": [
    "#### Recover Original time Series forecast"
   ]
  },
  {
   "cell_type": "code",
   "execution_count": 78,
   "metadata": {},
   "outputs": [],
   "source": [
    "y_hat_ar=df_boxcox_diff.copy()\n",
    "y_hat_ar['ar_forecast_boxcox_diff']=model_fit.predict(df_boxcox_diff.index.min(),df_boxcox_diff.index.max())\n",
    "y_hat_ar['ar_forecast_boxcox']=y_hat_ar['ar_forecast_boxcox_diff'].cumsum()\n",
    "#Calulating Cumulative sum to Intregrate adn summ of all values\n",
    "y_hat_ar['ar_forecast_boxcox']=y_hat_ar['ar_forecast_boxcox'].add(df_boxcox[0])\n",
    "#to do the reverse from BOXCOX to the Original Series.\n",
    "\n",
    "y_hat_ar['ar_forecast']=np.exp(y_hat_ar['ar_forecast_boxcox'])"
   ]
  },
  {
   "cell_type": "code",
   "execution_count": 79,
   "metadata": {},
   "outputs": [
    {
     "data": {
      "image/png": "[encoded data removed]",
      "text/plain": [
       "<Figure size 864x288 with 1 Axes>"
      ]
     },
     "metadata": {
      "needs_background": "light"
     },
     "output_type": "display_data"
    }
   ],
   "source": [
    "plt.figure(figsize=(12,4))\n",
    "plt.plot(train['Sales'],label='Train')\n",
    "plt.plot(test['Sales'],label='Test')\n",
    "plt.plot(y_hat_ar['ar_forecast'][test.index.min():],label='Auto Regression Forecast')\n",
    "plt.legend(loc='best')\n",
    "plt.title('Auto Regression Method')\n",
    "plt.show()"
   ]
  },
  {
   "cell_type": "markdown",
   "metadata": {},
   "source": [
    "#### Observation:\n",
    "1. Here, the Green line indicates the Auto Regression method\n",
    "1. Auto regression method predits the future observation as linear regression of past Sales data.\n",
    "2. In this case, value of Lag order i.e p is taken as 1\n"
   ]
  },
  {
   "cell_type": "markdown",
   "metadata": {},
   "source": [
    "#### Calculate MAPE value"
   ]
  },
  {
   "cell_type": "code",
   "execution_count": 80,
   "metadata": {},
   "outputs": [
    {
     "data": {
      "text/html": [
       "<div>\n",
       "<style scoped>\n",
       "    .dataframe tbody tr th:only-of-type {\n",
       "        vertical-align: middle;\n",
       "    }\n",
       "\n",
       "    .dataframe tbody tr th {\n",
       "        vertical-align: top;\n",
       "    }\n",
       "\n",
       "    .dataframe thead th {\n",
       "        text-align: right;\n",
       "    }\n",
       "</style>\n",
       "<table border=\"1\" class=\"dataframe\">\n",
       "  <thead>\n",
       "    <tr style=\"text-align: right;\">\n",
       "      <th></th>\n",
       "      <th>Method</th>\n",
       "      <th>MAPE</th>\n",
       "    </tr>\n",
       "  </thead>\n",
       "  <tbody>\n",
       "    <tr>\n",
       "      <th>0</th>\n",
       "      <td>Naive Method</td>\n",
       "      <td>17.47</td>\n",
       "    </tr>\n",
       "    <tr>\n",
       "      <th>0</th>\n",
       "      <td>Simple Average Method</td>\n",
       "      <td>34.34</td>\n",
       "    </tr>\n",
       "    <tr>\n",
       "      <th>0</th>\n",
       "      <td>Simple Moving Average Method</td>\n",
       "      <td>16.10</td>\n",
       "    </tr>\n",
       "    <tr>\n",
       "      <th>0</th>\n",
       "      <td>Simple Exponential Smoothing</td>\n",
       "      <td>15.83</td>\n",
       "    </tr>\n",
       "    <tr>\n",
       "      <th>0</th>\n",
       "      <td>HOLT Exponential Forecast</td>\n",
       "      <td>14.67</td>\n",
       "    </tr>\n",
       "    <tr>\n",
       "      <th>0</th>\n",
       "      <td>Holt WINTERs Additive Forecast</td>\n",
       "      <td>9.39</td>\n",
       "    </tr>\n",
       "    <tr>\n",
       "      <th>0</th>\n",
       "      <td>Holt WINTERs Multiplicative Forecast</td>\n",
       "      <td>10.20</td>\n",
       "    </tr>\n",
       "    <tr>\n",
       "      <th>0</th>\n",
       "      <td>Auto Regressive (AR)method</td>\n",
       "      <td>13.56</td>\n",
       "    </tr>\n",
       "  </tbody>\n",
       "</table>\n",
       "</div>"
      ],
      "text/plain": [
       "                                 Method   MAPE\n",
       "0                          Naive Method  17.47\n",
       "0                 Simple Average Method  34.34\n",
       "0          Simple Moving Average Method  16.10\n",
       "0          Simple Exponential Smoothing  15.83\n",
       "0             HOLT Exponential Forecast  14.67\n",
       "0        Holt WINTERs Additive Forecast   9.39\n",
       "0  Holt WINTERs Multiplicative Forecast  10.20\n",
       "0            Auto Regressive (AR)method  13.56"
      ]
     },
     "execution_count": 80,
     "metadata": {},
     "output_type": "execute_result"
    }
   ],
   "source": [
    "from sklearn.metrics import mean_squared_error\n",
    "rmse=np.sqrt(mean_squared_error(test['Sales'],y_hat_ar['ar_forecast'][test.index.min():])).round(2)\n",
    "mape=np.round(np.mean(np.abs(test['Sales']-y_hat_ar['ar_forecast'][test.index.min():])/test['Sales'])*100,2)\n",
    "\n",
    "tempResults=pd.DataFrame({'Method':['Auto Regressive (AR)method'],'MAPE':[mape]})\n",
    "results=pd.concat([results,tempResults])\n",
    "results"
   ]
  },
  {
   "cell_type": "markdown",
   "metadata": {},
   "source": [
    "#### Moving Average(MA) method"
   ]
  },
  {
   "cell_type": "code",
   "execution_count": 81,
   "metadata": {},
   "outputs": [
    {
     "name": "stdout",
     "output_type": "stream",
     "text": [
      "const      0.021415\n",
      "ma.L1.y   -1.000000\n",
      "dtype: float64\n"
     ]
    }
   ],
   "source": [
    "model=ARIMA(train_df_boxcox_diff,order=(0,0,1))\n",
    "model_fit=model.fit()\n",
    "print(model_fit.params)"
   ]
  },
  {
   "cell_type": "code",
   "execution_count": 82,
   "metadata": {},
   "outputs": [],
   "source": [
    "y_hat_ma=df_boxcox_diff.copy()\n",
    "y_hat_ma['ma_forecast_boxcox_diff']=model_fit.predict(df_boxcox_diff.index.min(),df_boxcox_diff.index.max())\n",
    "y_hat_ma['ma_forecast_boxcox']=y_hat_ma['ma_forecast_boxcox_diff'].cumsum()\n",
    "#Calulating Cumulative sum to Intregrate adn summ of all values\n",
    "y_hat_ma['ma_forecast_boxcox']=y_hat_ma['ma_forecast_boxcox'].add(df_boxcox[0])\n",
    "#to do the reverse from BOXCOX to the Original Series.\n",
    "y_hat_ma['ma_forecast']=np.exp(y_hat_ma['ma_forecast_boxcox'])\n"
   ]
  },
  {
   "cell_type": "code",
   "execution_count": 83,
   "metadata": {},
   "outputs": [
    {
     "data": {
      "image/png": "[encoded data removed]",
      "text/plain": [
       "<Figure size 864x288 with 1 Axes>"
      ]
     },
     "metadata": {
      "needs_background": "light"
     },
     "output_type": "display_data"
    }
   ],
   "source": [
    "plt.figure(figsize=(12,4))\n",
    "plt.plot(train['Sales'],label='Train')\n",
    "plt.plot(test['Sales'],label='Test')\n",
    "plt.plot(y_hat_ma['ma_forecast'][test.index.min():],label='Moving Average Forecast')\n",
    "plt.legend(loc='best')\n",
    "plt.title('Moving Average Forecast')\n",
    "plt.show()"
   ]
  },
  {
   "cell_type": "markdown",
   "metadata": {},
   "source": [
    "#### Observation:\n",
    "1. Here, the Green line indicates the Moving Average Forecast\n",
    "2. Moving Average Foreact method predicts the Forecast value ,using the past forecast errors.\n",
    "3. It has single paramter window size i.e q=1\n"
   ]
  },
  {
   "cell_type": "markdown",
   "metadata": {},
   "source": [
    "#### Calculate MAPE value"
   ]
  },
  {
   "cell_type": "code",
   "execution_count": 84,
   "metadata": {},
   "outputs": [
    {
     "data": {
      "text/html": [
       "<div>\n",
       "<style scoped>\n",
       "    .dataframe tbody tr th:only-of-type {\n",
       "        vertical-align: middle;\n",
       "    }\n",
       "\n",
       "    .dataframe tbody tr th {\n",
       "        vertical-align: top;\n",
       "    }\n",
       "\n",
       "    .dataframe thead th {\n",
       "        text-align: right;\n",
       "    }\n",
       "</style>\n",
       "<table border=\"1\" class=\"dataframe\">\n",
       "  <thead>\n",
       "    <tr style=\"text-align: right;\">\n",
       "      <th></th>\n",
       "      <th>Method</th>\n",
       "      <th>MAPE</th>\n",
       "    </tr>\n",
       "  </thead>\n",
       "  <tbody>\n",
       "    <tr>\n",
       "      <th>0</th>\n",
       "      <td>Naive Method</td>\n",
       "      <td>17.47</td>\n",
       "    </tr>\n",
       "    <tr>\n",
       "      <th>0</th>\n",
       "      <td>Simple Average Method</td>\n",
       "      <td>34.34</td>\n",
       "    </tr>\n",
       "    <tr>\n",
       "      <th>0</th>\n",
       "      <td>Simple Moving Average Method</td>\n",
       "      <td>16.10</td>\n",
       "    </tr>\n",
       "    <tr>\n",
       "      <th>0</th>\n",
       "      <td>Simple Exponential Smoothing</td>\n",
       "      <td>15.83</td>\n",
       "    </tr>\n",
       "    <tr>\n",
       "      <th>0</th>\n",
       "      <td>HOLT Exponential Forecast</td>\n",
       "      <td>14.67</td>\n",
       "    </tr>\n",
       "    <tr>\n",
       "      <th>0</th>\n",
       "      <td>Holt WINTERs Additive Forecast</td>\n",
       "      <td>9.39</td>\n",
       "    </tr>\n",
       "    <tr>\n",
       "      <th>0</th>\n",
       "      <td>Holt WINTERs Multiplicative Forecast</td>\n",
       "      <td>10.20</td>\n",
       "    </tr>\n",
       "    <tr>\n",
       "      <th>0</th>\n",
       "      <td>Auto Regressive (AR)method</td>\n",
       "      <td>13.56</td>\n",
       "    </tr>\n",
       "    <tr>\n",
       "      <th>0</th>\n",
       "      <td>Moving Average (MA) method</td>\n",
       "      <td>33.93</td>\n",
       "    </tr>\n",
       "  </tbody>\n",
       "</table>\n",
       "</div>"
      ],
      "text/plain": [
       "                                 Method   MAPE\n",
       "0                          Naive Method  17.47\n",
       "0                 Simple Average Method  34.34\n",
       "0          Simple Moving Average Method  16.10\n",
       "0          Simple Exponential Smoothing  15.83\n",
       "0             HOLT Exponential Forecast  14.67\n",
       "0        Holt WINTERs Additive Forecast   9.39\n",
       "0  Holt WINTERs Multiplicative Forecast  10.20\n",
       "0            Auto Regressive (AR)method  13.56\n",
       "0            Moving Average (MA) method  33.93"
      ]
     },
     "execution_count": 84,
     "metadata": {},
     "output_type": "execute_result"
    }
   ],
   "source": [
    "from sklearn.metrics import mean_squared_error\n",
    "rmse=np.sqrt(mean_squared_error(test['Sales'],y_hat_ma['ma_forecast'][test.index.min():])).round(2)\n",
    "mape=np.round(np.mean(np.abs(test['Sales']-y_hat_ma['ma_forecast'][test.index.min():])/test['Sales'])*100,2)\n",
    "\n",
    "tempResults=pd.DataFrame({'Method':['Moving Average (MA) method'],'MAPE':[mape]})\n",
    "results=pd.concat([results,tempResults])\n",
    "results"
   ]
  },
  {
   "cell_type": "markdown",
   "metadata": {},
   "source": [
    "### ARMA(Auto regressive moving average) method"
   ]
  },
  {
   "cell_type": "code",
   "execution_count": 85,
   "metadata": {},
   "outputs": [
    {
     "name": "stdout",
     "output_type": "stream",
     "text": [
      "const      0.02147\n",
      "ar.L1.y    0.07458\n",
      "ma.L1.y   -1.00000\n",
      "dtype: float64\n"
     ]
    }
   ],
   "source": [
    "model=ARIMA(train_df_boxcox_diff,order=(1,0,1))\n",
    "model_fit=model.fit()\n",
    "print(model_fit.params)"
   ]
  },
  {
   "cell_type": "markdown",
   "metadata": {},
   "source": [
    "#### Recover Original Time Series forcast"
   ]
  },
  {
   "cell_type": "code",
   "execution_count": 86,
   "metadata": {},
   "outputs": [],
   "source": [
    "y_hat_arma=df_boxcox_diff.copy()\n",
    "y_hat_arma['arma_forecast_boxcox_diff']=model_fit.predict(df_boxcox_diff.index.min(),df_boxcox_diff.index.max())\n",
    "y_hat_arma['arma_forecast_boxcox']=y_hat_arma['arma_forecast_boxcox_diff'].cumsum()\n",
    "#Calulating Cumulative sum to Intregrate adn summ of all values\n",
    "y_hat_arma['arma_forecast_boxcox']=y_hat_arma['arma_forecast_boxcox'].add(df_boxcox[0])\n",
    "#to do the reverse from BOXCOX to the Original Series.\n",
    "y_hat_arma['arma_forecast']=np.exp(y_hat_arma['arma_forecast_boxcox'])\n"
   ]
  },
  {
   "cell_type": "markdown",
   "metadata": {},
   "source": [
    "#### Plot Tran-Test forecast data"
   ]
  },
  {
   "cell_type": "code",
   "execution_count": 87,
   "metadata": {},
   "outputs": [
    {
     "data": {
      "image/png": "[encoded data removed]",
      "text/plain": [
       "<Figure size 864x288 with 1 Axes>"
      ]
     },
     "metadata": {
      "needs_background": "light"
     },
     "output_type": "display_data"
    }
   ],
   "source": [
    "plt.figure(figsize=(12,4))\n",
    "plt.plot(train['Sales'],label='Train')\n",
    "plt.plot(test['Sales'],label='Test')\n",
    "plt.plot(y_hat_arma['arma_forecast'][test.index.min():],label='Auto Regressiove Moving Average(ARMA) Forecast')\n",
    "plt.legend(loc='best')\n",
    "plt.title('Auto Regressive Moving Average (ARMA) Forecast')\n",
    "plt.show()"
   ]
  },
  {
   "cell_type": "markdown",
   "metadata": {},
   "source": [
    "#### Observation:\n",
    "1. Here, the Green line indicates the Auto Regressive Moving Average Forecast\n",
    "2. ARMA method predicts the Forecast value by combining both AR and MA method.\n",
    "3. It has tow paramters : Lag Order(p=1) and window size(q=1)"
   ]
  },
  {
   "cell_type": "markdown",
   "metadata": {},
   "source": [
    "#### Calculate MAPE value"
   ]
  },
  {
   "cell_type": "code",
   "execution_count": 88,
   "metadata": {},
   "outputs": [
    {
     "data": {
      "text/html": [
       "<div>\n",
       "<style scoped>\n",
       "    .dataframe tbody tr th:only-of-type {\n",
       "        vertical-align: middle;\n",
       "    }\n",
       "\n",
       "    .dataframe tbody tr th {\n",
       "        vertical-align: top;\n",
       "    }\n",
       "\n",
       "    .dataframe thead th {\n",
       "        text-align: right;\n",
       "    }\n",
       "</style>\n",
       "<table border=\"1\" class=\"dataframe\">\n",
       "  <thead>\n",
       "    <tr style=\"text-align: right;\">\n",
       "      <th></th>\n",
       "      <th>Method</th>\n",
       "      <th>MAPE</th>\n",
       "    </tr>\n",
       "  </thead>\n",
       "  <tbody>\n",
       "    <tr>\n",
       "      <th>0</th>\n",
       "      <td>Naive Method</td>\n",
       "      <td>17.47</td>\n",
       "    </tr>\n",
       "    <tr>\n",
       "      <th>0</th>\n",
       "      <td>Simple Average Method</td>\n",
       "      <td>34.34</td>\n",
       "    </tr>\n",
       "    <tr>\n",
       "      <th>0</th>\n",
       "      <td>Simple Moving Average Method</td>\n",
       "      <td>16.10</td>\n",
       "    </tr>\n",
       "    <tr>\n",
       "      <th>0</th>\n",
       "      <td>Simple Exponential Smoothing</td>\n",
       "      <td>15.83</td>\n",
       "    </tr>\n",
       "    <tr>\n",
       "      <th>0</th>\n",
       "      <td>HOLT Exponential Forecast</td>\n",
       "      <td>14.67</td>\n",
       "    </tr>\n",
       "    <tr>\n",
       "      <th>0</th>\n",
       "      <td>Holt WINTERs Additive Forecast</td>\n",
       "      <td>9.39</td>\n",
       "    </tr>\n",
       "    <tr>\n",
       "      <th>0</th>\n",
       "      <td>Holt WINTERs Multiplicative Forecast</td>\n",
       "      <td>10.20</td>\n",
       "    </tr>\n",
       "    <tr>\n",
       "      <th>0</th>\n",
       "      <td>Auto Regressive (AR)method</td>\n",
       "      <td>13.56</td>\n",
       "    </tr>\n",
       "    <tr>\n",
       "      <th>0</th>\n",
       "      <td>Moving Average (MA) method</td>\n",
       "      <td>33.93</td>\n",
       "    </tr>\n",
       "    <tr>\n",
       "      <th>0</th>\n",
       "      <td>(ARMA) Auto Regressive Moving Average method</td>\n",
       "      <td>32.40</td>\n",
       "    </tr>\n",
       "  </tbody>\n",
       "</table>\n",
       "</div>"
      ],
      "text/plain": [
       "                                         Method   MAPE\n",
       "0                                  Naive Method  17.47\n",
       "0                         Simple Average Method  34.34\n",
       "0                  Simple Moving Average Method  16.10\n",
       "0                  Simple Exponential Smoothing  15.83\n",
       "0                     HOLT Exponential Forecast  14.67\n",
       "0                Holt WINTERs Additive Forecast   9.39\n",
       "0          Holt WINTERs Multiplicative Forecast  10.20\n",
       "0                    Auto Regressive (AR)method  13.56\n",
       "0                    Moving Average (MA) method  33.93\n",
       "0  (ARMA) Auto Regressive Moving Average method  32.40"
      ]
     },
     "execution_count": 88,
     "metadata": {},
     "output_type": "execute_result"
    }
   ],
   "source": [
    "from sklearn.metrics import mean_squared_error\n",
    "rmse=np.sqrt(mean_squared_error(test['Sales'],y_hat_arma['arma_forecast'][test.index.min():])).round(2)\n",
    "mape=np.round(np.mean(np.abs(test['Sales']-y_hat_arma['arma_forecast'][test.index.min():])/test['Sales'])*100,2)\n",
    "\n",
    "tempResults=pd.DataFrame({'Method':['(ARMA) Auto Regressive Moving Average method'],'MAPE':[mape]})\n",
    "results=pd.concat([results,tempResults])\n",
    "results"
   ]
  },
  {
   "cell_type": "markdown",
   "metadata": {},
   "source": [
    "### ARIMA(Auto Regressive Integrated Moving Average) method"
   ]
  },
  {
   "cell_type": "code",
   "execution_count": 89,
   "metadata": {},
   "outputs": [
    {
     "name": "stdout",
     "output_type": "stream",
     "text": [
      "const        0.02147\n",
      "ar.L1.D.y    0.07458\n",
      "ma.L1.D.y   -1.00000\n",
      "dtype: float64\n"
     ]
    }
   ],
   "source": [
    "model=ARIMA(train_df_boxcox,order=(1,1,1))\n",
    "# here p=1,d=1 and q=1\n",
    "model_fit=model.fit()\n",
    "print(model_fit.params)"
   ]
  },
  {
   "cell_type": "markdown",
   "metadata": {},
   "source": [
    "#### Recover Original TS format"
   ]
  },
  {
   "cell_type": "code",
   "execution_count": 90,
   "metadata": {},
   "outputs": [],
   "source": [
    "y_hat_arima=df_boxcox_diff.copy()\n",
    "y_hat_arima['arima_forecast_boxcox_diff']=model_fit.predict(df_boxcox_diff.index.min(),df_boxcox_diff.index.max())\n",
    "y_hat_arima['arima_forecast_boxcox']=y_hat_arima['arima_forecast_boxcox_diff'].cumsum()\n",
    "#Calulating Cumulative sum to Intregrate adn summ of all values\n",
    "y_hat_arima['arima_forecast_boxcox']=y_hat_arima['arima_forecast_boxcox'].add(df_boxcox[0])\n",
    "#to do the reverse from BOXCOX to the Original Series.\n",
    "\n",
    "y_hat_arima['arima_forecast']=np.exp(y_hat_arima['arima_forecast_boxcox'])\n"
   ]
  },
  {
   "cell_type": "code",
   "execution_count": 91,
   "metadata": {},
   "outputs": [
    {
     "data": {
      "image/png": "[encoded data removed]",
      "text/plain": [
       "<Figure size 864x288 with 1 Axes>"
      ]
     },
     "metadata": {
      "needs_background": "light"
     },
     "output_type": "display_data"
    }
   ],
   "source": [
    "plt.figure(figsize=(12,4))\n",
    "plt.plot(train['Sales'],label='Train')\n",
    "plt.plot(test['Sales'],label='Test')\n",
    "plt.plot(y_hat_arima['arima_forecast'][test.index.min():],label='Auto Regressive Integrative Moving Average(ARIMA) Forecast')\n",
    "plt.legend(loc='best')\n",
    "plt.title('Auto Regressive Integrated Moving Average (ARIMA) Forecast')\n",
    "plt.show()"
   ]
  },
  {
   "cell_type": "markdown",
   "metadata": {},
   "source": [
    "#### Observation:\n",
    "1. Here, the Green line repressnts the ARIMA Forecast.\n",
    "2. It captures  the Level and trend , but no Seasonality."
   ]
  },
  {
   "cell_type": "markdown",
   "metadata": {},
   "source": [
    "#### Calculate MAPE value"
   ]
  },
  {
   "cell_type": "code",
   "execution_count": 92,
   "metadata": {},
   "outputs": [
    {
     "data": {
      "text/html": [
       "<div>\n",
       "<style scoped>\n",
       "    .dataframe tbody tr th:only-of-type {\n",
       "        vertical-align: middle;\n",
       "    }\n",
       "\n",
       "    .dataframe tbody tr th {\n",
       "        vertical-align: top;\n",
       "    }\n",
       "\n",
       "    .dataframe thead th {\n",
       "        text-align: right;\n",
       "    }\n",
       "</style>\n",
       "<table border=\"1\" class=\"dataframe\">\n",
       "  <thead>\n",
       "    <tr style=\"text-align: right;\">\n",
       "      <th></th>\n",
       "      <th>Method</th>\n",
       "      <th>MAPE</th>\n",
       "    </tr>\n",
       "  </thead>\n",
       "  <tbody>\n",
       "    <tr>\n",
       "      <th>0</th>\n",
       "      <td>Naive Method</td>\n",
       "      <td>17.47</td>\n",
       "    </tr>\n",
       "    <tr>\n",
       "      <th>0</th>\n",
       "      <td>Simple Average Method</td>\n",
       "      <td>34.34</td>\n",
       "    </tr>\n",
       "    <tr>\n",
       "      <th>0</th>\n",
       "      <td>Simple Moving Average Method</td>\n",
       "      <td>16.10</td>\n",
       "    </tr>\n",
       "    <tr>\n",
       "      <th>0</th>\n",
       "      <td>Simple Exponential Smoothing</td>\n",
       "      <td>15.83</td>\n",
       "    </tr>\n",
       "    <tr>\n",
       "      <th>0</th>\n",
       "      <td>HOLT Exponential Forecast</td>\n",
       "      <td>14.67</td>\n",
       "    </tr>\n",
       "    <tr>\n",
       "      <th>0</th>\n",
       "      <td>Holt WINTERs Additive Forecast</td>\n",
       "      <td>9.39</td>\n",
       "    </tr>\n",
       "    <tr>\n",
       "      <th>0</th>\n",
       "      <td>Holt WINTERs Multiplicative Forecast</td>\n",
       "      <td>10.20</td>\n",
       "    </tr>\n",
       "    <tr>\n",
       "      <th>0</th>\n",
       "      <td>Auto Regressive (AR)method</td>\n",
       "      <td>13.56</td>\n",
       "    </tr>\n",
       "    <tr>\n",
       "      <th>0</th>\n",
       "      <td>Moving Average (MA) method</td>\n",
       "      <td>33.93</td>\n",
       "    </tr>\n",
       "    <tr>\n",
       "      <th>0</th>\n",
       "      <td>(ARMA) Auto Regressive Moving Average method</td>\n",
       "      <td>32.40</td>\n",
       "    </tr>\n",
       "    <tr>\n",
       "      <th>0</th>\n",
       "      <td>(ARIMA) Auto Regressive Integrated Moving Aver...</td>\n",
       "      <td>32.40</td>\n",
       "    </tr>\n",
       "  </tbody>\n",
       "</table>\n",
       "</div>"
      ],
      "text/plain": [
       "                                              Method   MAPE\n",
       "0                                       Naive Method  17.47\n",
       "0                              Simple Average Method  34.34\n",
       "0                       Simple Moving Average Method  16.10\n",
       "0                       Simple Exponential Smoothing  15.83\n",
       "0                          HOLT Exponential Forecast  14.67\n",
       "0                     Holt WINTERs Additive Forecast   9.39\n",
       "0               Holt WINTERs Multiplicative Forecast  10.20\n",
       "0                         Auto Regressive (AR)method  13.56\n",
       "0                         Moving Average (MA) method  33.93\n",
       "0       (ARMA) Auto Regressive Moving Average method  32.40\n",
       "0  (ARIMA) Auto Regressive Integrated Moving Aver...  32.40"
      ]
     },
     "execution_count": 92,
     "metadata": {},
     "output_type": "execute_result"
    }
   ],
   "source": [
    "from sklearn.metrics import mean_squared_error\n",
    "rmse=np.sqrt(mean_squared_error(test['Sales'],y_hat_arima['arima_forecast'][test.index.min():])).round(2)\n",
    "mape=np.round(np.mean(np.abs(test['Sales']-y_hat_arima['arima_forecast'][test.index.min():])/test['Sales'])*100,2)\n",
    "\n",
    "tempResults=pd.DataFrame({'Method':['(ARIMA) Auto Regressive Integrated Moving Average emethod'],'MAPE':[mape]})\n",
    "results=pd.concat([results,tempResults])\n",
    "results"
   ]
  },
  {
   "cell_type": "markdown",
   "metadata": {},
   "source": [
    "### SARIMA(Seaonal Auto Regressive Integrated Moving Average) model"
   ]
  },
  {
   "cell_type": "code",
   "execution_count": 93,
   "metadata": {},
   "outputs": [
    {
     "name": "stdout",
     "output_type": "stream",
     "text": [
      "ar.L1      -0.041157\n",
      "ma.L1      -0.997243\n",
      "ar.S.L12    0.104227\n",
      "ma.S.L12   -0.973377\n",
      "sigma2      0.058197\n",
      "dtype: float64\n"
     ]
    }
   ],
   "source": [
    "from statsmodels.tsa.statespace.sarimax import SARIMAX\n",
    "model=SARIMAX(train_df_boxcox,order=(1,1,1,),seasonal_order=(1,1,1,12))\n",
    "model_fit=model.fit()\n",
    "print(model_fit.params)"
   ]
  },
  {
   "cell_type": "markdown",
   "metadata": {},
   "source": [
    "#### Recover Origonal TS forecast"
   ]
  },
  {
   "cell_type": "code",
   "execution_count": 94,
   "metadata": {},
   "outputs": [],
   "source": [
    "y_hat_sarima=df_boxcox_diff.copy()\n",
    "y_hat_sarima['sarima_forecast_boxcox']=model_fit.predict(df_boxcox_diff.index.min(),df_boxcox_diff.index.max())\n",
    "\n",
    "y_hat_sarima['sarima_forecast']=np.exp(y_hat_sarima['sarima_forecast_boxcox'])\n"
   ]
  },
  {
   "cell_type": "markdown",
   "metadata": {},
   "source": [
    "#### Train, test forecast"
   ]
  },
  {
   "cell_type": "code",
   "execution_count": 95,
   "metadata": {},
   "outputs": [
    {
     "data": {
      "image/png": "[encoded data removed]",
      "text/plain": [
       "<Figure size 864x288 with 1 Axes>"
      ]
     },
     "metadata": {
      "needs_background": "light"
     },
     "output_type": "display_data"
    }
   ],
   "source": [
    "plt.figure(figsize=(12,4))\n",
    "plt.plot(train['Sales'],label='Train')\n",
    "plt.plot(test['Sales'],label='Test')\n",
    "plt.plot(y_hat_sarima['sarima_forecast'][test.index.min():],label=' SEASONAL Auto Regressive Integrative Moving Average(SARIMA) Forecast')\n",
    "plt.legend(loc='best')\n",
    "plt.title('SEASONAL Auto Regressive Integrative Moving Average (SARIMA) Forecast')\n",
    "plt.show()"
   ]
  },
  {
   "cell_type": "markdown",
   "metadata": {},
   "source": [
    "#### Observation:\n",
    "1. Here, the Green line represent the SARIMA forecast.\n",
    "2. In the model, all 3 factors: Level, Trend and Seasonality are captured and observed.\n",
    "3. Forecast valueis observed to be very close to Actual values of next 6 months.\n"
   ]
  },
  {
   "cell_type": "markdown",
   "metadata": {},
   "source": [
    "#### Calculate MAPE value"
   ]
  },
  {
   "cell_type": "code",
   "execution_count": 96,
   "metadata": {},
   "outputs": [
    {
     "data": {
      "text/html": [
       "<div>\n",
       "<style scoped>\n",
       "    .dataframe tbody tr th:only-of-type {\n",
       "        vertical-align: middle;\n",
       "    }\n",
       "\n",
       "    .dataframe tbody tr th {\n",
       "        vertical-align: top;\n",
       "    }\n",
       "\n",
       "    .dataframe thead th {\n",
       "        text-align: right;\n",
       "    }\n",
       "</style>\n",
       "<table border=\"1\" class=\"dataframe\">\n",
       "  <thead>\n",
       "    <tr style=\"text-align: right;\">\n",
       "      <th></th>\n",
       "      <th>Method</th>\n",
       "      <th>MAPE</th>\n",
       "    </tr>\n",
       "  </thead>\n",
       "  <tbody>\n",
       "    <tr>\n",
       "      <th>0</th>\n",
       "      <td>Naive Method</td>\n",
       "      <td>17.47</td>\n",
       "    </tr>\n",
       "    <tr>\n",
       "      <th>0</th>\n",
       "      <td>Simple Average Method</td>\n",
       "      <td>34.34</td>\n",
       "    </tr>\n",
       "    <tr>\n",
       "      <th>0</th>\n",
       "      <td>Simple Moving Average Method</td>\n",
       "      <td>16.10</td>\n",
       "    </tr>\n",
       "    <tr>\n",
       "      <th>0</th>\n",
       "      <td>Simple Exponential Smoothing</td>\n",
       "      <td>15.83</td>\n",
       "    </tr>\n",
       "    <tr>\n",
       "      <th>0</th>\n",
       "      <td>HOLT Exponential Forecast</td>\n",
       "      <td>14.67</td>\n",
       "    </tr>\n",
       "    <tr>\n",
       "      <th>0</th>\n",
       "      <td>Holt WINTERs Additive Forecast</td>\n",
       "      <td>9.39</td>\n",
       "    </tr>\n",
       "    <tr>\n",
       "      <th>0</th>\n",
       "      <td>Holt WINTERs Multiplicative Forecast</td>\n",
       "      <td>10.20</td>\n",
       "    </tr>\n",
       "    <tr>\n",
       "      <th>0</th>\n",
       "      <td>Auto Regressive (AR)method</td>\n",
       "      <td>13.56</td>\n",
       "    </tr>\n",
       "    <tr>\n",
       "      <th>0</th>\n",
       "      <td>Moving Average (MA) method</td>\n",
       "      <td>33.93</td>\n",
       "    </tr>\n",
       "    <tr>\n",
       "      <th>0</th>\n",
       "      <td>(ARMA) Auto Regressive Moving Average method</td>\n",
       "      <td>32.40</td>\n",
       "    </tr>\n",
       "    <tr>\n",
       "      <th>0</th>\n",
       "      <td>(ARIMA) Auto Regressive Integrated Moving Aver...</td>\n",
       "      <td>32.40</td>\n",
       "    </tr>\n",
       "    <tr>\n",
       "      <th>0</th>\n",
       "      <td>(SARIMA)Seasonal Auto Regressive Integrated Mo...</td>\n",
       "      <td>12.95</td>\n",
       "    </tr>\n",
       "  </tbody>\n",
       "</table>\n",
       "</div>"
      ],
      "text/plain": [
       "                                              Method   MAPE\n",
       "0                                       Naive Method  17.47\n",
       "0                              Simple Average Method  34.34\n",
       "0                       Simple Moving Average Method  16.10\n",
       "0                       Simple Exponential Smoothing  15.83\n",
       "0                          HOLT Exponential Forecast  14.67\n",
       "0                     Holt WINTERs Additive Forecast   9.39\n",
       "0               Holt WINTERs Multiplicative Forecast  10.20\n",
       "0                         Auto Regressive (AR)method  13.56\n",
       "0                         Moving Average (MA) method  33.93\n",
       "0       (ARMA) Auto Regressive Moving Average method  32.40\n",
       "0  (ARIMA) Auto Regressive Integrated Moving Aver...  32.40\n",
       "0  (SARIMA)Seasonal Auto Regressive Integrated Mo...  12.95"
      ]
     },
     "execution_count": 96,
     "metadata": {},
     "output_type": "execute_result"
    }
   ],
   "source": [
    "from sklearn.metrics import mean_squared_error\n",
    "rmse=np.sqrt(mean_squared_error(test['Sales'],y_hat_sarima['sarima_forecast'][test.index.min():])).round(2)\n",
    "mape=np.round(np.mean(np.abs(test['Sales']-y_hat_sarima['sarima_forecast'][test.index.min():])/test['Sales'])*100,2)\n",
    "\n",
    "tempResults=pd.DataFrame({'Method':['(SARIMA)Seasonal Auto Regressive Integrated Moving Average method'],'MAPE':[mape]})\n",
    "results=pd.concat([results,tempResults])\n",
    "results"
   ]
  },
  {
   "cell_type": "markdown",
   "metadata": {},
   "source": [
    "#### Observation:\n",
    "1. MAPE value is observed to have least value for SARIMA model amongst all the models.\n",
    "2. SARIMA model is working best in comparion to the other models as MAPE values is least for it."
   ]
  },
  {
   "cell_type": "markdown",
   "metadata": {},
   "source": []
  },
  {
   "cell_type": "code",
   "execution_count": null,
   "metadata": {},
   "outputs": [],
   "source": []
  }
 ],
 "metadata": {
  "kernelspec": {
   "display_name": "Python 3",
   "language": "python",
   "name": "python3"
  },
  "language_info": {
   "codemirror_mode": {
    "name": "ipython",
    "version": 3
   },
   "file_extension": ".py",
   "mimetype": "text/x-python",
   "name": "python",
   "nbconvert_exporter": "python",
   "pygments_lexer": "ipython3",
   "version": "3.8.3"
  }
 },
 "nbformat": 4,
 "nbformat_minor": 4
}
